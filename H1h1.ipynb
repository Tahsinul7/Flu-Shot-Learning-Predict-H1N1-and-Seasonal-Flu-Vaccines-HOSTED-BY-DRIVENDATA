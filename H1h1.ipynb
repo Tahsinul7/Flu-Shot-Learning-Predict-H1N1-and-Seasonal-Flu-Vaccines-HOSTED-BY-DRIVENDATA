{
  "nbformat": 4,
  "nbformat_minor": 0,
  "metadata": {
    "colab": {
      "name": "H1h1.ipynb",
      "provenance": [],
      "mount_file_id": "1biCHTStSwsZDJWfS3B7XixkHVWh69FMe",
      "authorship_tag": "ABX9TyOidB7RF84BfVdON1lrfrCL",
      "include_colab_link": true
    },
    "kernelspec": {
      "name": "python3",
      "display_name": "Python 3"
    },
    "language_info": {
      "name": "python"
    }
  },
  "cells": [
    {
      "cell_type": "markdown",
      "metadata": {
        "id": "view-in-github",
        "colab_type": "text"
      },
      "source": [
        "<a href=\"https://colab.research.google.com/github/Tahsinul7/Flu-Shot-Learning-Predict-H1N1-and-Seasonal-Flu-Vaccines-HOSTED-BY-DRIVENDATA/blob/main/H1h1.ipynb\" target=\"_parent\"><img src=\"https://colab.research.google.com/assets/colab-badge.svg\" alt=\"Open In Colab\"/></a>"
      ]
    },
    {
      "cell_type": "code",
      "metadata": {
        "colab": {
          "base_uri": "https://localhost:8080/"
        },
        "id": "Z0EEu74TCjki",
        "outputId": "54570c65-3457-4fb6-bd0f-0828b1cdb21e"
      },
      "source": [
        "cd /content/drive/MyDrive/H1N1/"
      ],
      "execution_count": 1,
      "outputs": [
        {
          "output_type": "stream",
          "text": [
            "/content/drive/MyDrive/H1N1\n"
          ],
          "name": "stdout"
        }
      ]
    },
    {
      "cell_type": "markdown",
      "metadata": {
        "id": "Wf1xCyMQaeuR"
      },
      "source": [
        "Importing necessary libraries"
      ]
    },
    {
      "cell_type": "code",
      "metadata": {
        "id": "tRvbN26gCvuW"
      },
      "source": [
        "import pandas as pd\n",
        "import matplotlib.pyplot as plt\n",
        "import seaborn as sns\n"
      ],
      "execution_count": 2,
      "outputs": []
    },
    {
      "cell_type": "code",
      "metadata": {
        "id": "WWW6qBhpC-at"
      },
      "source": [
        "df_trainfeatures = pd.read_csv('training_set_features.csv', index_col=['respondent_id'])\n",
        "df_trainlabels = pd.read_csv('training_set_labels.csv', index_col=['respondent_id'])"
      ],
      "execution_count": 3,
      "outputs": []
    },
    {
      "cell_type": "markdown",
      "metadata": {
        "id": "PmVQjmvWanpG"
      },
      "source": [
        "Looking at the data\n",
        "each row of the dataframe contains one observation of a person from 26707 people who took part in this survey and there are 35 features, and the two labels are h1n1_vaccine and seasonal_vaccine if each person have taken them or not"
      ]
    },
    {
      "cell_type": "code",
      "metadata": {
        "id": "Aom6LmigFj55",
        "colab": {
          "base_uri": "https://localhost:8080/"
        },
        "outputId": "f959b174-f9fd-447e-9c39-1d4881b63680"
      },
      "source": [
        "print(\"df_trainfeatures.shape\", df_trainfeatures.shape)\n",
        "print(\"df_trainlabels\",df_trainlabels.shape)"
      ],
      "execution_count": 4,
      "outputs": [
        {
          "output_type": "stream",
          "text": [
            "df_trainfeatures.shape (26707, 35)\n",
            "df_trainlabels (26707, 2)\n"
          ],
          "name": "stdout"
        }
      ]
    },
    {
      "cell_type": "code",
      "metadata": {
        "colab": {
          "base_uri": "https://localhost:8080/",
          "height": 227
        },
        "id": "xUB6UUKsHhcU",
        "outputId": "110f3871-46e1-4ec3-9880-da1fd99f60f8"
      },
      "source": [
        "df_trainlabels.head()"
      ],
      "execution_count": 5,
      "outputs": [
        {
          "output_type": "execute_result",
          "data": {
            "text/html": [
              "<div>\n",
              "<style scoped>\n",
              "    .dataframe tbody tr th:only-of-type {\n",
              "        vertical-align: middle;\n",
              "    }\n",
              "\n",
              "    .dataframe tbody tr th {\n",
              "        vertical-align: top;\n",
              "    }\n",
              "\n",
              "    .dataframe thead th {\n",
              "        text-align: right;\n",
              "    }\n",
              "</style>\n",
              "<table border=\"1\" class=\"dataframe\">\n",
              "  <thead>\n",
              "    <tr style=\"text-align: right;\">\n",
              "      <th></th>\n",
              "      <th>h1n1_vaccine</th>\n",
              "      <th>seasonal_vaccine</th>\n",
              "    </tr>\n",
              "    <tr>\n",
              "      <th>respondent_id</th>\n",
              "      <th></th>\n",
              "      <th></th>\n",
              "    </tr>\n",
              "  </thead>\n",
              "  <tbody>\n",
              "    <tr>\n",
              "      <th>0</th>\n",
              "      <td>0</td>\n",
              "      <td>0</td>\n",
              "    </tr>\n",
              "    <tr>\n",
              "      <th>1</th>\n",
              "      <td>0</td>\n",
              "      <td>1</td>\n",
              "    </tr>\n",
              "    <tr>\n",
              "      <th>2</th>\n",
              "      <td>0</td>\n",
              "      <td>0</td>\n",
              "    </tr>\n",
              "    <tr>\n",
              "      <th>3</th>\n",
              "      <td>0</td>\n",
              "      <td>1</td>\n",
              "    </tr>\n",
              "    <tr>\n",
              "      <th>4</th>\n",
              "      <td>0</td>\n",
              "      <td>0</td>\n",
              "    </tr>\n",
              "  </tbody>\n",
              "</table>\n",
              "</div>"
            ],
            "text/plain": [
              "               h1n1_vaccine  seasonal_vaccine\n",
              "respondent_id                                \n",
              "0                         0                 0\n",
              "1                         0                 1\n",
              "2                         0                 0\n",
              "3                         0                 1\n",
              "4                         0                 0"
            ]
          },
          "metadata": {
            "tags": []
          },
          "execution_count": 5
        }
      ]
    },
    {
      "cell_type": "code",
      "metadata": {
        "colab": {
          "base_uri": "https://localhost:8080/",
          "height": 400
        },
        "id": "uhWyYcgnV40Y",
        "outputId": "15d08ec8-e81d-4c13-ff3a-b07efc22c244"
      },
      "source": [
        "df_trainfeatures.head(5)"
      ],
      "execution_count": 77,
      "outputs": [
        {
          "output_type": "execute_result",
          "data": {
            "text/html": [
              "<div>\n",
              "<style scoped>\n",
              "    .dataframe tbody tr th:only-of-type {\n",
              "        vertical-align: middle;\n",
              "    }\n",
              "\n",
              "    .dataframe tbody tr th {\n",
              "        vertical-align: top;\n",
              "    }\n",
              "\n",
              "    .dataframe thead th {\n",
              "        text-align: right;\n",
              "    }\n",
              "</style>\n",
              "<table border=\"1\" class=\"dataframe\">\n",
              "  <thead>\n",
              "    <tr style=\"text-align: right;\">\n",
              "      <th></th>\n",
              "      <th>h1n1_concern</th>\n",
              "      <th>h1n1_knowledge</th>\n",
              "      <th>behavioral_antiviral_meds</th>\n",
              "      <th>behavioral_avoidance</th>\n",
              "      <th>behavioral_face_mask</th>\n",
              "      <th>behavioral_wash_hands</th>\n",
              "      <th>behavioral_large_gatherings</th>\n",
              "      <th>behavioral_outside_home</th>\n",
              "      <th>behavioral_touch_face</th>\n",
              "      <th>doctor_recc_h1n1</th>\n",
              "      <th>doctor_recc_seasonal</th>\n",
              "      <th>chronic_med_condition</th>\n",
              "      <th>child_under_6_months</th>\n",
              "      <th>health_worker</th>\n",
              "      <th>health_insurance</th>\n",
              "      <th>opinion_h1n1_vacc_effective</th>\n",
              "      <th>opinion_h1n1_risk</th>\n",
              "      <th>opinion_h1n1_sick_from_vacc</th>\n",
              "      <th>opinion_seas_vacc_effective</th>\n",
              "      <th>opinion_seas_risk</th>\n",
              "      <th>opinion_seas_sick_from_vacc</th>\n",
              "      <th>age_group</th>\n",
              "      <th>education</th>\n",
              "      <th>race</th>\n",
              "      <th>sex</th>\n",
              "      <th>income_poverty</th>\n",
              "      <th>marital_status</th>\n",
              "      <th>rent_or_own</th>\n",
              "      <th>employment_status</th>\n",
              "      <th>hhs_geo_region</th>\n",
              "      <th>census_msa</th>\n",
              "      <th>household_adults</th>\n",
              "      <th>household_children</th>\n",
              "      <th>employment_industry</th>\n",
              "      <th>employment_occupation</th>\n",
              "    </tr>\n",
              "    <tr>\n",
              "      <th>respondent_id</th>\n",
              "      <th></th>\n",
              "      <th></th>\n",
              "      <th></th>\n",
              "      <th></th>\n",
              "      <th></th>\n",
              "      <th></th>\n",
              "      <th></th>\n",
              "      <th></th>\n",
              "      <th></th>\n",
              "      <th></th>\n",
              "      <th></th>\n",
              "      <th></th>\n",
              "      <th></th>\n",
              "      <th></th>\n",
              "      <th></th>\n",
              "      <th></th>\n",
              "      <th></th>\n",
              "      <th></th>\n",
              "      <th></th>\n",
              "      <th></th>\n",
              "      <th></th>\n",
              "      <th></th>\n",
              "      <th></th>\n",
              "      <th></th>\n",
              "      <th></th>\n",
              "      <th></th>\n",
              "      <th></th>\n",
              "      <th></th>\n",
              "      <th></th>\n",
              "      <th></th>\n",
              "      <th></th>\n",
              "      <th></th>\n",
              "      <th></th>\n",
              "      <th></th>\n",
              "      <th></th>\n",
              "    </tr>\n",
              "  </thead>\n",
              "  <tbody>\n",
              "    <tr>\n",
              "      <th>0</th>\n",
              "      <td>1.0</td>\n",
              "      <td>0.0</td>\n",
              "      <td>0.0</td>\n",
              "      <td>0.0</td>\n",
              "      <td>0.0</td>\n",
              "      <td>0.0</td>\n",
              "      <td>0.0</td>\n",
              "      <td>1.0</td>\n",
              "      <td>1.0</td>\n",
              "      <td>0.0</td>\n",
              "      <td>0.0</td>\n",
              "      <td>0.0</td>\n",
              "      <td>0.0</td>\n",
              "      <td>0.0</td>\n",
              "      <td>1.0</td>\n",
              "      <td>3.0</td>\n",
              "      <td>1.0</td>\n",
              "      <td>2.0</td>\n",
              "      <td>2.0</td>\n",
              "      <td>1.0</td>\n",
              "      <td>2.0</td>\n",
              "      <td>55 - 64 Years</td>\n",
              "      <td>&lt; 12 Years</td>\n",
              "      <td>White</td>\n",
              "      <td>Female</td>\n",
              "      <td>Below Poverty</td>\n",
              "      <td>Not Married</td>\n",
              "      <td>Own</td>\n",
              "      <td>Not in Labor Force</td>\n",
              "      <td>oxchjgsf</td>\n",
              "      <td>Non-MSA</td>\n",
              "      <td>0.0</td>\n",
              "      <td>0.0</td>\n",
              "      <td>NaN</td>\n",
              "      <td>NaN</td>\n",
              "    </tr>\n",
              "    <tr>\n",
              "      <th>1</th>\n",
              "      <td>3.0</td>\n",
              "      <td>2.0</td>\n",
              "      <td>0.0</td>\n",
              "      <td>1.0</td>\n",
              "      <td>0.0</td>\n",
              "      <td>1.0</td>\n",
              "      <td>0.0</td>\n",
              "      <td>1.0</td>\n",
              "      <td>1.0</td>\n",
              "      <td>0.0</td>\n",
              "      <td>0.0</td>\n",
              "      <td>0.0</td>\n",
              "      <td>0.0</td>\n",
              "      <td>0.0</td>\n",
              "      <td>1.0</td>\n",
              "      <td>5.0</td>\n",
              "      <td>4.0</td>\n",
              "      <td>4.0</td>\n",
              "      <td>4.0</td>\n",
              "      <td>2.0</td>\n",
              "      <td>4.0</td>\n",
              "      <td>35 - 44 Years</td>\n",
              "      <td>12 Years</td>\n",
              "      <td>White</td>\n",
              "      <td>Male</td>\n",
              "      <td>Below Poverty</td>\n",
              "      <td>Not Married</td>\n",
              "      <td>Rent</td>\n",
              "      <td>Employed</td>\n",
              "      <td>bhuqouqj</td>\n",
              "      <td>MSA, Not Principle  City</td>\n",
              "      <td>0.0</td>\n",
              "      <td>0.0</td>\n",
              "      <td>pxcmvdjn</td>\n",
              "      <td>xgwztkwe</td>\n",
              "    </tr>\n",
              "    <tr>\n",
              "      <th>2</th>\n",
              "      <td>1.0</td>\n",
              "      <td>1.0</td>\n",
              "      <td>0.0</td>\n",
              "      <td>1.0</td>\n",
              "      <td>0.0</td>\n",
              "      <td>0.0</td>\n",
              "      <td>0.0</td>\n",
              "      <td>0.0</td>\n",
              "      <td>0.0</td>\n",
              "      <td>NaN</td>\n",
              "      <td>NaN</td>\n",
              "      <td>1.0</td>\n",
              "      <td>0.0</td>\n",
              "      <td>0.0</td>\n",
              "      <td>NaN</td>\n",
              "      <td>3.0</td>\n",
              "      <td>1.0</td>\n",
              "      <td>1.0</td>\n",
              "      <td>4.0</td>\n",
              "      <td>1.0</td>\n",
              "      <td>2.0</td>\n",
              "      <td>18 - 34 Years</td>\n",
              "      <td>College Graduate</td>\n",
              "      <td>White</td>\n",
              "      <td>Male</td>\n",
              "      <td>&lt;= $75,000, Above Poverty</td>\n",
              "      <td>Not Married</td>\n",
              "      <td>Own</td>\n",
              "      <td>Employed</td>\n",
              "      <td>qufhixun</td>\n",
              "      <td>MSA, Not Principle  City</td>\n",
              "      <td>2.0</td>\n",
              "      <td>0.0</td>\n",
              "      <td>rucpziij</td>\n",
              "      <td>xtkaffoo</td>\n",
              "    </tr>\n",
              "    <tr>\n",
              "      <th>3</th>\n",
              "      <td>1.0</td>\n",
              "      <td>1.0</td>\n",
              "      <td>0.0</td>\n",
              "      <td>1.0</td>\n",
              "      <td>0.0</td>\n",
              "      <td>1.0</td>\n",
              "      <td>1.0</td>\n",
              "      <td>0.0</td>\n",
              "      <td>0.0</td>\n",
              "      <td>0.0</td>\n",
              "      <td>1.0</td>\n",
              "      <td>1.0</td>\n",
              "      <td>0.0</td>\n",
              "      <td>0.0</td>\n",
              "      <td>NaN</td>\n",
              "      <td>3.0</td>\n",
              "      <td>3.0</td>\n",
              "      <td>5.0</td>\n",
              "      <td>5.0</td>\n",
              "      <td>4.0</td>\n",
              "      <td>1.0</td>\n",
              "      <td>65+ Years</td>\n",
              "      <td>12 Years</td>\n",
              "      <td>White</td>\n",
              "      <td>Female</td>\n",
              "      <td>Below Poverty</td>\n",
              "      <td>Not Married</td>\n",
              "      <td>Rent</td>\n",
              "      <td>Not in Labor Force</td>\n",
              "      <td>lrircsnp</td>\n",
              "      <td>MSA, Principle City</td>\n",
              "      <td>0.0</td>\n",
              "      <td>0.0</td>\n",
              "      <td>NaN</td>\n",
              "      <td>NaN</td>\n",
              "    </tr>\n",
              "    <tr>\n",
              "      <th>4</th>\n",
              "      <td>2.0</td>\n",
              "      <td>1.0</td>\n",
              "      <td>0.0</td>\n",
              "      <td>1.0</td>\n",
              "      <td>0.0</td>\n",
              "      <td>1.0</td>\n",
              "      <td>1.0</td>\n",
              "      <td>0.0</td>\n",
              "      <td>1.0</td>\n",
              "      <td>0.0</td>\n",
              "      <td>0.0</td>\n",
              "      <td>0.0</td>\n",
              "      <td>0.0</td>\n",
              "      <td>0.0</td>\n",
              "      <td>NaN</td>\n",
              "      <td>3.0</td>\n",
              "      <td>3.0</td>\n",
              "      <td>2.0</td>\n",
              "      <td>3.0</td>\n",
              "      <td>1.0</td>\n",
              "      <td>4.0</td>\n",
              "      <td>45 - 54 Years</td>\n",
              "      <td>Some College</td>\n",
              "      <td>White</td>\n",
              "      <td>Female</td>\n",
              "      <td>&lt;= $75,000, Above Poverty</td>\n",
              "      <td>Married</td>\n",
              "      <td>Own</td>\n",
              "      <td>Employed</td>\n",
              "      <td>qufhixun</td>\n",
              "      <td>MSA, Not Principle  City</td>\n",
              "      <td>1.0</td>\n",
              "      <td>0.0</td>\n",
              "      <td>wxleyezf</td>\n",
              "      <td>emcorrxb</td>\n",
              "    </tr>\n",
              "  </tbody>\n",
              "</table>\n",
              "</div>"
            ],
            "text/plain": [
              "               h1n1_concern  ...  employment_occupation\n",
              "respondent_id                ...                       \n",
              "0                       1.0  ...                    NaN\n",
              "1                       3.0  ...               xgwztkwe\n",
              "2                       1.0  ...               xtkaffoo\n",
              "3                       1.0  ...                    NaN\n",
              "4                       2.0  ...               emcorrxb\n",
              "\n",
              "[5 rows x 35 columns]"
            ]
          },
          "metadata": {
            "tags": []
          },
          "execution_count": 77
        }
      ]
    },
    {
      "cell_type": "markdown",
      "metadata": {
        "id": "fJelCHENa8pg"
      },
      "source": [
        "Features contain columns which contains string values, lets check out the data types of our features"
      ]
    },
    {
      "cell_type": "code",
      "metadata": {
        "colab": {
          "base_uri": "https://localhost:8080/"
        },
        "id": "60PVzbq4WIgH",
        "outputId": "c1e9628e-fbfd-438b-d6a2-ea7bcda719eb"
      },
      "source": [
        "df_trainfeatures.dtypes"
      ],
      "execution_count": 238,
      "outputs": [
        {
          "output_type": "execute_result",
          "data": {
            "text/plain": [
              "h1n1_concern                   float64\n",
              "h1n1_knowledge                 float64\n",
              "behavioral_antiviral_meds      float64\n",
              "behavioral_avoidance           float64\n",
              "behavioral_face_mask           float64\n",
              "behavioral_wash_hands          float64\n",
              "behavioral_large_gatherings    float64\n",
              "behavioral_outside_home        float64\n",
              "behavioral_touch_face          float64\n",
              "doctor_recc_h1n1               float64\n",
              "doctor_recc_seasonal           float64\n",
              "chronic_med_condition          float64\n",
              "child_under_6_months           float64\n",
              "health_worker                  float64\n",
              "health_insurance               float64\n",
              "opinion_h1n1_vacc_effective    float64\n",
              "opinion_h1n1_risk              float64\n",
              "opinion_h1n1_sick_from_vacc    float64\n",
              "opinion_seas_vacc_effective    float64\n",
              "opinion_seas_risk              float64\n",
              "opinion_seas_sick_from_vacc    float64\n",
              "age_group                       object\n",
              "education                       object\n",
              "race                            object\n",
              "sex                             object\n",
              "income_poverty                  object\n",
              "marital_status                  object\n",
              "rent_or_own                     object\n",
              "employment_status               object\n",
              "hhs_geo_region                  object\n",
              "census_msa                      object\n",
              "household_adults               float64\n",
              "household_children             float64\n",
              "employment_industry             object\n",
              "employment_occupation           object\n",
              "dtype: object"
            ]
          },
          "metadata": {
            "tags": []
          },
          "execution_count": 238
        }
      ]
    },
    {
      "cell_type": "markdown",
      "metadata": {
        "id": "uAIluwUCbN6e"
      },
      "source": [
        "Lets join the features and labels into one DataFrame"
      ]
    },
    {
      "cell_type": "code",
      "metadata": {
        "colab": {
          "base_uri": "https://localhost:8080/",
          "height": 400
        },
        "id": "Ful2u7iE4YEs",
        "outputId": "677b3567-f1e7-4efc-ee8f-11458143ac0c"
      },
      "source": [
        "df_train = df_trainfeatures.join(df_trainlabels)\n",
        "df_train.head()"
      ],
      "execution_count": 6,
      "outputs": [
        {
          "output_type": "execute_result",
          "data": {
            "text/html": [
              "<div>\n",
              "<style scoped>\n",
              "    .dataframe tbody tr th:only-of-type {\n",
              "        vertical-align: middle;\n",
              "    }\n",
              "\n",
              "    .dataframe tbody tr th {\n",
              "        vertical-align: top;\n",
              "    }\n",
              "\n",
              "    .dataframe thead th {\n",
              "        text-align: right;\n",
              "    }\n",
              "</style>\n",
              "<table border=\"1\" class=\"dataframe\">\n",
              "  <thead>\n",
              "    <tr style=\"text-align: right;\">\n",
              "      <th></th>\n",
              "      <th>h1n1_concern</th>\n",
              "      <th>h1n1_knowledge</th>\n",
              "      <th>behavioral_antiviral_meds</th>\n",
              "      <th>behavioral_avoidance</th>\n",
              "      <th>behavioral_face_mask</th>\n",
              "      <th>behavioral_wash_hands</th>\n",
              "      <th>behavioral_large_gatherings</th>\n",
              "      <th>behavioral_outside_home</th>\n",
              "      <th>behavioral_touch_face</th>\n",
              "      <th>doctor_recc_h1n1</th>\n",
              "      <th>doctor_recc_seasonal</th>\n",
              "      <th>chronic_med_condition</th>\n",
              "      <th>child_under_6_months</th>\n",
              "      <th>health_worker</th>\n",
              "      <th>health_insurance</th>\n",
              "      <th>opinion_h1n1_vacc_effective</th>\n",
              "      <th>opinion_h1n1_risk</th>\n",
              "      <th>opinion_h1n1_sick_from_vacc</th>\n",
              "      <th>opinion_seas_vacc_effective</th>\n",
              "      <th>opinion_seas_risk</th>\n",
              "      <th>opinion_seas_sick_from_vacc</th>\n",
              "      <th>age_group</th>\n",
              "      <th>education</th>\n",
              "      <th>race</th>\n",
              "      <th>sex</th>\n",
              "      <th>income_poverty</th>\n",
              "      <th>marital_status</th>\n",
              "      <th>rent_or_own</th>\n",
              "      <th>employment_status</th>\n",
              "      <th>hhs_geo_region</th>\n",
              "      <th>census_msa</th>\n",
              "      <th>household_adults</th>\n",
              "      <th>household_children</th>\n",
              "      <th>employment_industry</th>\n",
              "      <th>employment_occupation</th>\n",
              "      <th>h1n1_vaccine</th>\n",
              "      <th>seasonal_vaccine</th>\n",
              "    </tr>\n",
              "    <tr>\n",
              "      <th>respondent_id</th>\n",
              "      <th></th>\n",
              "      <th></th>\n",
              "      <th></th>\n",
              "      <th></th>\n",
              "      <th></th>\n",
              "      <th></th>\n",
              "      <th></th>\n",
              "      <th></th>\n",
              "      <th></th>\n",
              "      <th></th>\n",
              "      <th></th>\n",
              "      <th></th>\n",
              "      <th></th>\n",
              "      <th></th>\n",
              "      <th></th>\n",
              "      <th></th>\n",
              "      <th></th>\n",
              "      <th></th>\n",
              "      <th></th>\n",
              "      <th></th>\n",
              "      <th></th>\n",
              "      <th></th>\n",
              "      <th></th>\n",
              "      <th></th>\n",
              "      <th></th>\n",
              "      <th></th>\n",
              "      <th></th>\n",
              "      <th></th>\n",
              "      <th></th>\n",
              "      <th></th>\n",
              "      <th></th>\n",
              "      <th></th>\n",
              "      <th></th>\n",
              "      <th></th>\n",
              "      <th></th>\n",
              "      <th></th>\n",
              "      <th></th>\n",
              "    </tr>\n",
              "  </thead>\n",
              "  <tbody>\n",
              "    <tr>\n",
              "      <th>0</th>\n",
              "      <td>1.0</td>\n",
              "      <td>0.0</td>\n",
              "      <td>0.0</td>\n",
              "      <td>0.0</td>\n",
              "      <td>0.0</td>\n",
              "      <td>0.0</td>\n",
              "      <td>0.0</td>\n",
              "      <td>1.0</td>\n",
              "      <td>1.0</td>\n",
              "      <td>0.0</td>\n",
              "      <td>0.0</td>\n",
              "      <td>0.0</td>\n",
              "      <td>0.0</td>\n",
              "      <td>0.0</td>\n",
              "      <td>1.0</td>\n",
              "      <td>3.0</td>\n",
              "      <td>1.0</td>\n",
              "      <td>2.0</td>\n",
              "      <td>2.0</td>\n",
              "      <td>1.0</td>\n",
              "      <td>2.0</td>\n",
              "      <td>55 - 64 Years</td>\n",
              "      <td>&lt; 12 Years</td>\n",
              "      <td>White</td>\n",
              "      <td>Female</td>\n",
              "      <td>Below Poverty</td>\n",
              "      <td>Not Married</td>\n",
              "      <td>Own</td>\n",
              "      <td>Not in Labor Force</td>\n",
              "      <td>oxchjgsf</td>\n",
              "      <td>Non-MSA</td>\n",
              "      <td>0.0</td>\n",
              "      <td>0.0</td>\n",
              "      <td>NaN</td>\n",
              "      <td>NaN</td>\n",
              "      <td>0</td>\n",
              "      <td>0</td>\n",
              "    </tr>\n",
              "    <tr>\n",
              "      <th>1</th>\n",
              "      <td>3.0</td>\n",
              "      <td>2.0</td>\n",
              "      <td>0.0</td>\n",
              "      <td>1.0</td>\n",
              "      <td>0.0</td>\n",
              "      <td>1.0</td>\n",
              "      <td>0.0</td>\n",
              "      <td>1.0</td>\n",
              "      <td>1.0</td>\n",
              "      <td>0.0</td>\n",
              "      <td>0.0</td>\n",
              "      <td>0.0</td>\n",
              "      <td>0.0</td>\n",
              "      <td>0.0</td>\n",
              "      <td>1.0</td>\n",
              "      <td>5.0</td>\n",
              "      <td>4.0</td>\n",
              "      <td>4.0</td>\n",
              "      <td>4.0</td>\n",
              "      <td>2.0</td>\n",
              "      <td>4.0</td>\n",
              "      <td>35 - 44 Years</td>\n",
              "      <td>12 Years</td>\n",
              "      <td>White</td>\n",
              "      <td>Male</td>\n",
              "      <td>Below Poverty</td>\n",
              "      <td>Not Married</td>\n",
              "      <td>Rent</td>\n",
              "      <td>Employed</td>\n",
              "      <td>bhuqouqj</td>\n",
              "      <td>MSA, Not Principle  City</td>\n",
              "      <td>0.0</td>\n",
              "      <td>0.0</td>\n",
              "      <td>pxcmvdjn</td>\n",
              "      <td>xgwztkwe</td>\n",
              "      <td>0</td>\n",
              "      <td>1</td>\n",
              "    </tr>\n",
              "    <tr>\n",
              "      <th>2</th>\n",
              "      <td>1.0</td>\n",
              "      <td>1.0</td>\n",
              "      <td>0.0</td>\n",
              "      <td>1.0</td>\n",
              "      <td>0.0</td>\n",
              "      <td>0.0</td>\n",
              "      <td>0.0</td>\n",
              "      <td>0.0</td>\n",
              "      <td>0.0</td>\n",
              "      <td>NaN</td>\n",
              "      <td>NaN</td>\n",
              "      <td>1.0</td>\n",
              "      <td>0.0</td>\n",
              "      <td>0.0</td>\n",
              "      <td>NaN</td>\n",
              "      <td>3.0</td>\n",
              "      <td>1.0</td>\n",
              "      <td>1.0</td>\n",
              "      <td>4.0</td>\n",
              "      <td>1.0</td>\n",
              "      <td>2.0</td>\n",
              "      <td>18 - 34 Years</td>\n",
              "      <td>College Graduate</td>\n",
              "      <td>White</td>\n",
              "      <td>Male</td>\n",
              "      <td>&lt;= $75,000, Above Poverty</td>\n",
              "      <td>Not Married</td>\n",
              "      <td>Own</td>\n",
              "      <td>Employed</td>\n",
              "      <td>qufhixun</td>\n",
              "      <td>MSA, Not Principle  City</td>\n",
              "      <td>2.0</td>\n",
              "      <td>0.0</td>\n",
              "      <td>rucpziij</td>\n",
              "      <td>xtkaffoo</td>\n",
              "      <td>0</td>\n",
              "      <td>0</td>\n",
              "    </tr>\n",
              "    <tr>\n",
              "      <th>3</th>\n",
              "      <td>1.0</td>\n",
              "      <td>1.0</td>\n",
              "      <td>0.0</td>\n",
              "      <td>1.0</td>\n",
              "      <td>0.0</td>\n",
              "      <td>1.0</td>\n",
              "      <td>1.0</td>\n",
              "      <td>0.0</td>\n",
              "      <td>0.0</td>\n",
              "      <td>0.0</td>\n",
              "      <td>1.0</td>\n",
              "      <td>1.0</td>\n",
              "      <td>0.0</td>\n",
              "      <td>0.0</td>\n",
              "      <td>NaN</td>\n",
              "      <td>3.0</td>\n",
              "      <td>3.0</td>\n",
              "      <td>5.0</td>\n",
              "      <td>5.0</td>\n",
              "      <td>4.0</td>\n",
              "      <td>1.0</td>\n",
              "      <td>65+ Years</td>\n",
              "      <td>12 Years</td>\n",
              "      <td>White</td>\n",
              "      <td>Female</td>\n",
              "      <td>Below Poverty</td>\n",
              "      <td>Not Married</td>\n",
              "      <td>Rent</td>\n",
              "      <td>Not in Labor Force</td>\n",
              "      <td>lrircsnp</td>\n",
              "      <td>MSA, Principle City</td>\n",
              "      <td>0.0</td>\n",
              "      <td>0.0</td>\n",
              "      <td>NaN</td>\n",
              "      <td>NaN</td>\n",
              "      <td>0</td>\n",
              "      <td>1</td>\n",
              "    </tr>\n",
              "    <tr>\n",
              "      <th>4</th>\n",
              "      <td>2.0</td>\n",
              "      <td>1.0</td>\n",
              "      <td>0.0</td>\n",
              "      <td>1.0</td>\n",
              "      <td>0.0</td>\n",
              "      <td>1.0</td>\n",
              "      <td>1.0</td>\n",
              "      <td>0.0</td>\n",
              "      <td>1.0</td>\n",
              "      <td>0.0</td>\n",
              "      <td>0.0</td>\n",
              "      <td>0.0</td>\n",
              "      <td>0.0</td>\n",
              "      <td>0.0</td>\n",
              "      <td>NaN</td>\n",
              "      <td>3.0</td>\n",
              "      <td>3.0</td>\n",
              "      <td>2.0</td>\n",
              "      <td>3.0</td>\n",
              "      <td>1.0</td>\n",
              "      <td>4.0</td>\n",
              "      <td>45 - 54 Years</td>\n",
              "      <td>Some College</td>\n",
              "      <td>White</td>\n",
              "      <td>Female</td>\n",
              "      <td>&lt;= $75,000, Above Poverty</td>\n",
              "      <td>Married</td>\n",
              "      <td>Own</td>\n",
              "      <td>Employed</td>\n",
              "      <td>qufhixun</td>\n",
              "      <td>MSA, Not Principle  City</td>\n",
              "      <td>1.0</td>\n",
              "      <td>0.0</td>\n",
              "      <td>wxleyezf</td>\n",
              "      <td>emcorrxb</td>\n",
              "      <td>0</td>\n",
              "      <td>0</td>\n",
              "    </tr>\n",
              "  </tbody>\n",
              "</table>\n",
              "</div>"
            ],
            "text/plain": [
              "               h1n1_concern  h1n1_knowledge  ...  h1n1_vaccine  seasonal_vaccine\n",
              "respondent_id                                ...                                \n",
              "0                       1.0             0.0  ...             0                 0\n",
              "1                       3.0             2.0  ...             0                 1\n",
              "2                       1.0             1.0  ...             0                 0\n",
              "3                       1.0             1.0  ...             0                 1\n",
              "4                       2.0             1.0  ...             0                 0\n",
              "\n",
              "[5 rows x 37 columns]"
            ]
          },
          "metadata": {
            "tags": []
          },
          "execution_count": 6
        }
      ]
    },
    {
      "cell_type": "markdown",
      "metadata": {
        "id": "J1oK-U8bwqrA"
      },
      "source": [
        "### EDA"
      ]
    },
    {
      "cell_type": "markdown",
      "metadata": {
        "id": "37NZDEBbcjEM"
      },
      "source": [
        "Taking a look of the missing values in the dataset"
      ]
    },
    {
      "cell_type": "code",
      "metadata": {
        "colab": {
          "base_uri": "https://localhost:8080/"
        },
        "id": "JaWkVA4FcVOy",
        "outputId": "5b1cf690-121f-4444-ebb4-7eeed685c5a7"
      },
      "source": [
        "df_train.isna().sum().sort_values(ascending=False)"
      ],
      "execution_count": 243,
      "outputs": [
        {
          "output_type": "execute_result",
          "data": {
            "text/plain": [
              "employment_occupation          13470\n",
              "employment_industry            13330\n",
              "health_insurance               12274\n",
              "income_poverty                  4423\n",
              "doctor_recc_seasonal            2160\n",
              "doctor_recc_h1n1                2160\n",
              "rent_or_own                     2042\n",
              "employment_status               1463\n",
              "marital_status                  1408\n",
              "education                       1407\n",
              "chronic_med_condition            971\n",
              "child_under_6_months             820\n",
              "health_worker                    804\n",
              "opinion_seas_sick_from_vacc      537\n",
              "opinion_seas_risk                514\n",
              "opinion_seas_vacc_effective      462\n",
              "opinion_h1n1_sick_from_vacc      395\n",
              "opinion_h1n1_vacc_effective      391\n",
              "opinion_h1n1_risk                388\n",
              "household_adults                 249\n",
              "household_children               249\n",
              "behavioral_avoidance             208\n",
              "behavioral_touch_face            128\n",
              "h1n1_knowledge                   116\n",
              "h1n1_concern                      92\n",
              "behavioral_large_gatherings       87\n",
              "behavioral_outside_home           82\n",
              "behavioral_antiviral_meds         71\n",
              "behavioral_wash_hands             42\n",
              "behavioral_face_mask              19\n",
              "h1n1_vaccine                       0\n",
              "age_group                          0\n",
              "race                               0\n",
              "sex                                0\n",
              "hhs_geo_region                     0\n",
              "census_msa                         0\n",
              "seasonal_vaccine                   0\n",
              "dtype: int64"
            ]
          },
          "metadata": {
            "tags": []
          },
          "execution_count": 243
        }
      ]
    },
    {
      "cell_type": "markdown",
      "metadata": {
        "id": "hXS1sSgsc40B"
      },
      "source": [
        "Instead of seeing numbers lets plot them.\n",
        "We can see there are some columns which stands out"
      ]
    },
    {
      "cell_type": "code",
      "metadata": {
        "colab": {
          "base_uri": "https://localhost:8080/",
          "height": 620
        },
        "id": "riG0idoqDExS",
        "outputId": "02bdf90f-cc22-451d-8002-58e61c96ce1d"
      },
      "source": [
        "plt.figure(figsize=(8,8))\n",
        "df_train.isna().sum().plot(kind = 'bar')\n",
        "\n",
        "plt.show()\n"
      ],
      "execution_count": 244,
      "outputs": [
        {
          "output_type": "display_data",
          "data": {
            "image/png": "[encoded data removed]",
            "text/plain": [
              "<Figure size 576x576 with 1 Axes>"
            ]
          },
          "metadata": {
            "tags": [],
            "needs_background": "light"
          }
        }
      ]
    },
    {
      "cell_type": "markdown",
      "metadata": {
        "id": "qySKorLObeUm"
      },
      "source": [
        "Lets check the proportion of people taking both the vaccines"
      ]
    },
    {
      "cell_type": "code",
      "metadata": {
        "colab": {
          "base_uri": "https://localhost:8080/",
          "height": 296
        },
        "id": "-4UxEb7Kd6OI",
        "outputId": "42682ce3-a5b5-4bf5-ed7f-36527088dd43"
      },
      "source": [
        "fig, ax = plt.subplots(2, 1, sharex=True)\n",
        "\n",
        "total_obv = df_train.shape[0]\n",
        "\n",
        "(df_train['h1n1_vaccine']\n",
        "    .value_counts()\n",
        "    .div(total_obv)\n",
        "    .plot.barh(title=\"Proportion of H1N1 Vaccine\", ax=ax[0])\n",
        ")\n",
        "ax[0].set_ylabel(\"h1n1_vaccine\")\n",
        "\n",
        "(df_train['seasonal_vaccine']\n",
        "    .value_counts()\n",
        "    .div(total_obv)\n",
        "    .plot.barh(title=\"Proportion of Seasonal Vaccine\", ax=ax[1])\n",
        ")\n",
        "ax[1].set_ylabel(\"seasonal_vaccine\")\n",
        "\n",
        "fig.tight_layout()\n"
      ],
      "execution_count": 249,
      "outputs": [
        {
          "output_type": "display_data",
          "data": {
            "image/png": "[encoded data removed]",
            "text/plain": [
              "<Figure size 432x288 with 2 Axes>"
            ]
          },
          "metadata": {
            "tags": [],
            "needs_background": "light"
          }
        }
      ]
    },
    {
      "cell_type": "markdown",
      "metadata": {
        "id": "_mQDNiP5ehoM"
      },
      "source": [
        "We can there is big  class imbalance in h1n1 vaccine being taken, almost 80% haven't taken the h1n1 vaccine.\n",
        "\n",
        "More people have  taken seasonal vaccine than h1n1 vaccine.\n"
      ]
    },
    {
      "cell_type": "code",
      "metadata": {
        "id": "OD2sddE7l_Y1"
      },
      "source": [
        "sns.countplot( x= df_train.h1n1_concern.astype('category'), hue = df_train.h1n1_vaccine.astype('category'))\n",
        "plt.show()"
      ],
      "execution_count": null,
      "outputs": []
    },
    {
      "cell_type": "code",
      "metadata": {
        "colab": {
          "base_uri": "https://localhost:8080/"
        },
        "id": "X_FyInQlf0Z_",
        "outputId": "6948ff7f-f745-4759-b5df-1c98e1549b8d"
      },
      "source": [
        "df_train.columns"
      ],
      "execution_count": 37,
      "outputs": [
        {
          "output_type": "execute_result",
          "data": {
            "text/plain": [
              "Index(['h1n1_concern', 'h1n1_knowledge', 'behavioral_antiviral_meds',\n",
              "       'behavioral_avoidance', 'behavioral_face_mask', 'behavioral_wash_hands',\n",
              "       'behavioral_large_gatherings', 'behavioral_outside_home',\n",
              "       'behavioral_touch_face', 'doctor_recc_h1n1', 'doctor_recc_seasonal',\n",
              "       'chronic_med_condition', 'child_under_6_months', 'health_worker',\n",
              "       'health_insurance', 'opinion_h1n1_vacc_effective', 'opinion_h1n1_risk',\n",
              "       'opinion_h1n1_sick_from_vacc', 'opinion_seas_vacc_effective',\n",
              "       'opinion_seas_risk', 'opinion_seas_sick_from_vacc', 'age_group',\n",
              "       'education', 'race', 'sex', 'income_poverty', 'marital_status',\n",
              "       'rent_or_own', 'employment_status', 'household_adults',\n",
              "       'household_children', 'h1n1_vaccine', 'seasonal_vaccine'],\n",
              "      dtype='object')"
            ]
          },
          "metadata": {
            "tags": []
          },
          "execution_count": 37
        }
      ]
    },
    {
      "cell_type": "code",
      "metadata": {
        "colab": {
          "base_uri": "https://localhost:8080/",
          "height": 279
        },
        "id": "FxTD-GI6eg19",
        "outputId": "090958d3-b5b0-4a4c-a3ff-b6349ef2dfc5"
      },
      "source": [
        "sns.countplot( x= df_train.h1n1_concern.astype('category'), hue = df_train.h1n1_vaccine.astype('category'))\n",
        "plt.show()"
      ],
      "execution_count": 47,
      "outputs": [
        {
          "output_type": "display_data",
          "data": {
            "image/png": "[encoded data removed]",
            "text/plain": [
              "<Figure size 432x288 with 1 Axes>"
            ]
          },
          "metadata": {
            "tags": [],
            "needs_background": "light"
          }
        }
      ]
    },
    {
      "cell_type": "markdown",
      "metadata": {
        "id": "Rl1VgiRLmP_I"
      },
      "source": [
        "We can see more concern people did take more h1n1 vaccine, but there isnt a clear picture due to proportions not being taken into account."
      ]
    },
    {
      "cell_type": "code",
      "metadata": {
        "colab": {
          "base_uri": "https://localhost:8080/",
          "height": 197
        },
        "id": "vfN9r03uoKJY",
        "outputId": "57c16d8e-9356-41ca-cc6a-69724effc24b"
      },
      "source": [
        "df_train.groupby(['h1n1_concern','h1n1_vaccine']).size().unstack('h1n1_vaccine')"
      ],
      "execution_count": 65,
      "outputs": [
        {
          "output_type": "execute_result",
          "data": {
            "text/html": [
              "<div>\n",
              "<style scoped>\n",
              "    .dataframe tbody tr th:only-of-type {\n",
              "        vertical-align: middle;\n",
              "    }\n",
              "\n",
              "    .dataframe tbody tr th {\n",
              "        vertical-align: top;\n",
              "    }\n",
              "\n",
              "    .dataframe thead th {\n",
              "        text-align: right;\n",
              "    }\n",
              "</style>\n",
              "<table border=\"1\" class=\"dataframe\">\n",
              "  <thead>\n",
              "    <tr style=\"text-align: right;\">\n",
              "      <th>h1n1_vaccine</th>\n",
              "      <th>0</th>\n",
              "      <th>1</th>\n",
              "    </tr>\n",
              "    <tr>\n",
              "      <th>h1n1_concern</th>\n",
              "      <th></th>\n",
              "      <th></th>\n",
              "    </tr>\n",
              "  </thead>\n",
              "  <tbody>\n",
              "    <tr>\n",
              "      <th>0.0</th>\n",
              "      <td>2849</td>\n",
              "      <td>447</td>\n",
              "    </tr>\n",
              "    <tr>\n",
              "      <th>1.0</th>\n",
              "      <td>6756</td>\n",
              "      <td>1397</td>\n",
              "    </tr>\n",
              "    <tr>\n",
              "      <th>2.0</th>\n",
              "      <td>8102</td>\n",
              "      <td>2473</td>\n",
              "    </tr>\n",
              "    <tr>\n",
              "      <th>3.0</th>\n",
              "      <td>3250</td>\n",
              "      <td>1341</td>\n",
              "    </tr>\n",
              "  </tbody>\n",
              "</table>\n",
              "</div>"
            ],
            "text/plain": [
              "h1n1_vaccine     0     1\n",
              "h1n1_concern            \n",
              "0.0           2849   447\n",
              "1.0           6756  1397\n",
              "2.0           8102  2473\n",
              "3.0           3250  1341"
            ]
          },
          "metadata": {
            "tags": []
          },
          "execution_count": 65
        }
      ]
    },
    {
      "cell_type": "code",
      "metadata": {
        "id": "NDvOOl3Ep3Pu"
      },
      "source": [
        "h1n1_concern_counts = df_train.groupby('h1n1_concern').size()"
      ],
      "execution_count": 64,
      "outputs": []
    },
    {
      "cell_type": "code",
      "metadata": {
        "colab": {
          "base_uri": "https://localhost:8080/",
          "height": 197
        },
        "id": "_bIvE5VJsGNG",
        "outputId": "3b3b254f-fe72-4498-9d60-9b63d7a4ad11"
      },
      "source": [
        "proportions = df_train.groupby(['h1n1_concern','h1n1_vaccine']).size().unstack('h1n1_vaccine').div(h1n1_concern_counts,axis ='index')\n",
        "proportions"
      ],
      "execution_count": 67,
      "outputs": [
        {
          "output_type": "execute_result",
          "data": {
            "text/html": [
              "<div>\n",
              "<style scoped>\n",
              "    .dataframe tbody tr th:only-of-type {\n",
              "        vertical-align: middle;\n",
              "    }\n",
              "\n",
              "    .dataframe tbody tr th {\n",
              "        vertical-align: top;\n",
              "    }\n",
              "\n",
              "    .dataframe thead th {\n",
              "        text-align: right;\n",
              "    }\n",
              "</style>\n",
              "<table border=\"1\" class=\"dataframe\">\n",
              "  <thead>\n",
              "    <tr style=\"text-align: right;\">\n",
              "      <th>h1n1_vaccine</th>\n",
              "      <th>0</th>\n",
              "      <th>1</th>\n",
              "    </tr>\n",
              "    <tr>\n",
              "      <th>h1n1_concern</th>\n",
              "      <th></th>\n",
              "      <th></th>\n",
              "    </tr>\n",
              "  </thead>\n",
              "  <tbody>\n",
              "    <tr>\n",
              "      <th>0.0</th>\n",
              "      <td>0.864381</td>\n",
              "      <td>0.135619</td>\n",
              "    </tr>\n",
              "    <tr>\n",
              "      <th>1.0</th>\n",
              "      <td>0.828652</td>\n",
              "      <td>0.171348</td>\n",
              "    </tr>\n",
              "    <tr>\n",
              "      <th>2.0</th>\n",
              "      <td>0.766147</td>\n",
              "      <td>0.233853</td>\n",
              "    </tr>\n",
              "    <tr>\n",
              "      <th>3.0</th>\n",
              "      <td>0.707907</td>\n",
              "      <td>0.292093</td>\n",
              "    </tr>\n",
              "  </tbody>\n",
              "</table>\n",
              "</div>"
            ],
            "text/plain": [
              "h1n1_vaccine         0         1\n",
              "h1n1_concern                    \n",
              "0.0           0.864381  0.135619\n",
              "1.0           0.828652  0.171348\n",
              "2.0           0.766147  0.233853\n",
              "3.0           0.707907  0.292093"
            ]
          },
          "metadata": {
            "tags": []
          },
          "execution_count": 67
        }
      ]
    },
    {
      "cell_type": "code",
      "metadata": {
        "colab": {
          "base_uri": "https://localhost:8080/",
          "height": 264
        },
        "id": "HuEJAh8qsLx8",
        "outputId": "2b246423-65b0-4f67-bf9a-2bfbd27cf606"
      },
      "source": [
        "ax = proportions.plot.barh()\n",
        "ax.invert_yaxis()\n",
        "ax.legend(\n",
        "    loc='center left', \n",
        "    bbox_to_anchor=(1.05, 0.5),\n",
        "    title='h1n1_vaccine'\n",
        ")\n",
        "plt.show()"
      ],
      "execution_count": 69,
      "outputs": [
        {
          "output_type": "display_data",
          "data": {
            "image/png": "[encoded data removed]",
            "text/plain": [
              "<Figure size 432x288 with 1 Axes>"
            ]
          },
          "metadata": {
            "tags": [],
            "needs_background": "light"
          }
        }
      ]
    },
    {
      "cell_type": "markdown",
      "metadata": {
        "id": "kgU7xpMSsrCV"
      },
      "source": [
        "Now it is showing a clear picture, more concerned people are indeed taking more h1n1_vaccines! Lets do some modeling!"
      ]
    },
    {
      "cell_type": "markdown",
      "metadata": {
        "id": "xkzNN_PBlm-S"
      },
      "source": [
        "### Building Models"
      ]
    },
    {
      "cell_type": "markdown",
      "metadata": {
        "id": "gJxW3u7zlqre"
      },
      "source": [
        "To build our machine learning model, we need make sure to deal with the categorical columns, remove missing values, before we can feed it to a estimator"
      ]
    },
    {
      "cell_type": "markdown",
      "metadata": {
        "id": "YHHWyRDosWg8"
      },
      "source": [
        "### Dealing with Categorical Variable"
      ]
    },
    {
      "cell_type": "markdown",
      "metadata": {
        "id": "N7HmoMmrmFzY"
      },
      "source": [
        "First we look at columns with 'obj' datatype."
      ]
    },
    {
      "cell_type": "code",
      "metadata": {
        "colab": {
          "base_uri": "https://localhost:8080/",
          "height": 589
        },
        "id": "j70hZ99AsPuk",
        "outputId": "7f879418-2e9c-4ff3-d829-9028b9760562"
      },
      "source": [
        "df_train.select_dtypes(include =['object'])"
      ],
      "execution_count": null,
      "outputs": [
        {
          "output_type": "execute_result",
          "data": {
            "text/html": [
              "<div>\n",
              "<style scoped>\n",
              "    .dataframe tbody tr th:only-of-type {\n",
              "        vertical-align: middle;\n",
              "    }\n",
              "\n",
              "    .dataframe tbody tr th {\n",
              "        vertical-align: top;\n",
              "    }\n",
              "\n",
              "    .dataframe thead th {\n",
              "        text-align: right;\n",
              "    }\n",
              "</style>\n",
              "<table border=\"1\" class=\"dataframe\">\n",
              "  <thead>\n",
              "    <tr style=\"text-align: right;\">\n",
              "      <th></th>\n",
              "      <th>age_group</th>\n",
              "      <th>education</th>\n",
              "      <th>race</th>\n",
              "      <th>sex</th>\n",
              "      <th>income_poverty</th>\n",
              "      <th>marital_status</th>\n",
              "      <th>rent_or_own</th>\n",
              "      <th>employment_status</th>\n",
              "      <th>hhs_geo_region</th>\n",
              "      <th>census_msa</th>\n",
              "      <th>employment_industry</th>\n",
              "      <th>employment_occupation</th>\n",
              "    </tr>\n",
              "  </thead>\n",
              "  <tbody>\n",
              "    <tr>\n",
              "      <th>0</th>\n",
              "      <td>55 - 64 Years</td>\n",
              "      <td>&lt; 12 Years</td>\n",
              "      <td>White</td>\n",
              "      <td>Female</td>\n",
              "      <td>Below Poverty</td>\n",
              "      <td>Not Married</td>\n",
              "      <td>Own</td>\n",
              "      <td>Not in Labor Force</td>\n",
              "      <td>oxchjgsf</td>\n",
              "      <td>Non-MSA</td>\n",
              "      <td>NaN</td>\n",
              "      <td>NaN</td>\n",
              "    </tr>\n",
              "    <tr>\n",
              "      <th>1</th>\n",
              "      <td>35 - 44 Years</td>\n",
              "      <td>12 Years</td>\n",
              "      <td>White</td>\n",
              "      <td>Male</td>\n",
              "      <td>Below Poverty</td>\n",
              "      <td>Not Married</td>\n",
              "      <td>Rent</td>\n",
              "      <td>Employed</td>\n",
              "      <td>bhuqouqj</td>\n",
              "      <td>MSA, Not Principle  City</td>\n",
              "      <td>pxcmvdjn</td>\n",
              "      <td>xgwztkwe</td>\n",
              "    </tr>\n",
              "    <tr>\n",
              "      <th>2</th>\n",
              "      <td>18 - 34 Years</td>\n",
              "      <td>College Graduate</td>\n",
              "      <td>White</td>\n",
              "      <td>Male</td>\n",
              "      <td>&lt;= $75,000, Above Poverty</td>\n",
              "      <td>Not Married</td>\n",
              "      <td>Own</td>\n",
              "      <td>Employed</td>\n",
              "      <td>qufhixun</td>\n",
              "      <td>MSA, Not Principle  City</td>\n",
              "      <td>rucpziij</td>\n",
              "      <td>xtkaffoo</td>\n",
              "    </tr>\n",
              "    <tr>\n",
              "      <th>3</th>\n",
              "      <td>65+ Years</td>\n",
              "      <td>12 Years</td>\n",
              "      <td>White</td>\n",
              "      <td>Female</td>\n",
              "      <td>Below Poverty</td>\n",
              "      <td>Not Married</td>\n",
              "      <td>Rent</td>\n",
              "      <td>Not in Labor Force</td>\n",
              "      <td>lrircsnp</td>\n",
              "      <td>MSA, Principle City</td>\n",
              "      <td>NaN</td>\n",
              "      <td>NaN</td>\n",
              "    </tr>\n",
              "    <tr>\n",
              "      <th>4</th>\n",
              "      <td>45 - 54 Years</td>\n",
              "      <td>Some College</td>\n",
              "      <td>White</td>\n",
              "      <td>Female</td>\n",
              "      <td>&lt;= $75,000, Above Poverty</td>\n",
              "      <td>Married</td>\n",
              "      <td>Own</td>\n",
              "      <td>Employed</td>\n",
              "      <td>qufhixun</td>\n",
              "      <td>MSA, Not Principle  City</td>\n",
              "      <td>wxleyezf</td>\n",
              "      <td>emcorrxb</td>\n",
              "    </tr>\n",
              "    <tr>\n",
              "      <th>...</th>\n",
              "      <td>...</td>\n",
              "      <td>...</td>\n",
              "      <td>...</td>\n",
              "      <td>...</td>\n",
              "      <td>...</td>\n",
              "      <td>...</td>\n",
              "      <td>...</td>\n",
              "      <td>...</td>\n",
              "      <td>...</td>\n",
              "      <td>...</td>\n",
              "      <td>...</td>\n",
              "      <td>...</td>\n",
              "    </tr>\n",
              "    <tr>\n",
              "      <th>26702</th>\n",
              "      <td>65+ Years</td>\n",
              "      <td>Some College</td>\n",
              "      <td>White</td>\n",
              "      <td>Female</td>\n",
              "      <td>&lt;= $75,000, Above Poverty</td>\n",
              "      <td>Not Married</td>\n",
              "      <td>Own</td>\n",
              "      <td>Not in Labor Force</td>\n",
              "      <td>qufhixun</td>\n",
              "      <td>Non-MSA</td>\n",
              "      <td>NaN</td>\n",
              "      <td>NaN</td>\n",
              "    </tr>\n",
              "    <tr>\n",
              "      <th>26703</th>\n",
              "      <td>18 - 34 Years</td>\n",
              "      <td>College Graduate</td>\n",
              "      <td>White</td>\n",
              "      <td>Male</td>\n",
              "      <td>&lt;= $75,000, Above Poverty</td>\n",
              "      <td>Not Married</td>\n",
              "      <td>Rent</td>\n",
              "      <td>Employed</td>\n",
              "      <td>lzgpxyit</td>\n",
              "      <td>MSA, Principle City</td>\n",
              "      <td>fcxhlnwr</td>\n",
              "      <td>cmhcxjea</td>\n",
              "    </tr>\n",
              "    <tr>\n",
              "      <th>26704</th>\n",
              "      <td>55 - 64 Years</td>\n",
              "      <td>Some College</td>\n",
              "      <td>White</td>\n",
              "      <td>Female</td>\n",
              "      <td>NaN</td>\n",
              "      <td>Not Married</td>\n",
              "      <td>Own</td>\n",
              "      <td>NaN</td>\n",
              "      <td>lzgpxyit</td>\n",
              "      <td>MSA, Not Principle  City</td>\n",
              "      <td>NaN</td>\n",
              "      <td>NaN</td>\n",
              "    </tr>\n",
              "    <tr>\n",
              "      <th>26705</th>\n",
              "      <td>18 - 34 Years</td>\n",
              "      <td>Some College</td>\n",
              "      <td>Hispanic</td>\n",
              "      <td>Female</td>\n",
              "      <td>&lt;= $75,000, Above Poverty</td>\n",
              "      <td>Married</td>\n",
              "      <td>Rent</td>\n",
              "      <td>Employed</td>\n",
              "      <td>lrircsnp</td>\n",
              "      <td>Non-MSA</td>\n",
              "      <td>fcxhlnwr</td>\n",
              "      <td>haliazsg</td>\n",
              "    </tr>\n",
              "    <tr>\n",
              "      <th>26706</th>\n",
              "      <td>65+ Years</td>\n",
              "      <td>Some College</td>\n",
              "      <td>White</td>\n",
              "      <td>Male</td>\n",
              "      <td>&lt;= $75,000, Above Poverty</td>\n",
              "      <td>Married</td>\n",
              "      <td>Own</td>\n",
              "      <td>Not in Labor Force</td>\n",
              "      <td>mlyzmhmf</td>\n",
              "      <td>MSA, Principle City</td>\n",
              "      <td>NaN</td>\n",
              "      <td>NaN</td>\n",
              "    </tr>\n",
              "  </tbody>\n",
              "</table>\n",
              "<p>26707 rows × 12 columns</p>\n",
              "</div>"
            ],
            "text/plain": [
              "           age_group  ... employment_occupation\n",
              "0      55 - 64 Years  ...                   NaN\n",
              "1      35 - 44 Years  ...              xgwztkwe\n",
              "2      18 - 34 Years  ...              xtkaffoo\n",
              "3          65+ Years  ...                   NaN\n",
              "4      45 - 54 Years  ...              emcorrxb\n",
              "...              ...  ...                   ...\n",
              "26702      65+ Years  ...                   NaN\n",
              "26703  18 - 34 Years  ...              cmhcxjea\n",
              "26704  55 - 64 Years  ...                   NaN\n",
              "26705  18 - 34 Years  ...              haliazsg\n",
              "26706      65+ Years  ...                   NaN\n",
              "\n",
              "[26707 rows x 12 columns]"
            ]
          },
          "metadata": {
            "tags": []
          },
          "execution_count": 43
        }
      ]
    },
    {
      "cell_type": "markdown",
      "metadata": {
        "id": "9HaJMap8lhBQ"
      },
      "source": [
        "Now there are a number of option on how we want to process these columns.\n",
        "We can ordinal encode, the age group, education , income_poverty or just use pandas get_dummies to one hot encode the variables, however get dummies, doesnt work well when using pipelines\n"
      ]
    },
    {
      "cell_type": "markdown",
      "metadata": {
        "id": "YQDmzrQrm6eZ"
      },
      "source": [
        "We will use One hot encoding, for that we need convert obj data type to category dtype, for that we write a function, since we have to apply similar process on our holdout set."
      ]
    },
    {
      "cell_type": "code",
      "metadata": {
        "id": "NTII10MTGEBg"
      },
      "source": [
        "def cat(df):\n",
        "  for col in df:\n",
        "    if df[col].dtypes == 'O':\n",
        "      df[col] = df[col].astype('category')\n",
        "    else:\n",
        "       df\n",
        "  \n",
        "  \n",
        "\n",
        "  "
      ],
      "execution_count": 7,
      "outputs": []
    },
    {
      "cell_type": "code",
      "metadata": {
        "id": "wFPuBWgOHBy9"
      },
      "source": [
        "cat(df_train)\n",
        "    \n",
        "     \n",
        "     \n",
        "  "
      ],
      "execution_count": 8,
      "outputs": []
    },
    {
      "cell_type": "markdown",
      "metadata": {
        "id": "TW1c2LUvnLZG"
      },
      "source": [
        "We can see the obj datatypes are converted to category dtypes."
      ]
    },
    {
      "cell_type": "code",
      "metadata": {
        "colab": {
          "base_uri": "https://localhost:8080/"
        },
        "id": "MuX6dJCqHPCz",
        "outputId": "3059f70c-82da-453f-e0b0-3dff05b1cb08"
      },
      "source": [
        "df_train.dtypes"
      ],
      "execution_count": 9,
      "outputs": [
        {
          "output_type": "execute_result",
          "data": {
            "text/plain": [
              "h1n1_concern                    float64\n",
              "h1n1_knowledge                  float64\n",
              "behavioral_antiviral_meds       float64\n",
              "behavioral_avoidance            float64\n",
              "behavioral_face_mask            float64\n",
              "behavioral_wash_hands           float64\n",
              "behavioral_large_gatherings     float64\n",
              "behavioral_outside_home         float64\n",
              "behavioral_touch_face           float64\n",
              "doctor_recc_h1n1                float64\n",
              "doctor_recc_seasonal            float64\n",
              "chronic_med_condition           float64\n",
              "child_under_6_months            float64\n",
              "health_worker                   float64\n",
              "health_insurance                float64\n",
              "opinion_h1n1_vacc_effective     float64\n",
              "opinion_h1n1_risk               float64\n",
              "opinion_h1n1_sick_from_vacc     float64\n",
              "opinion_seas_vacc_effective     float64\n",
              "opinion_seas_risk               float64\n",
              "opinion_seas_sick_from_vacc     float64\n",
              "age_group                      category\n",
              "education                      category\n",
              "race                           category\n",
              "sex                            category\n",
              "income_poverty                 category\n",
              "marital_status                 category\n",
              "rent_or_own                    category\n",
              "employment_status              category\n",
              "hhs_geo_region                 category\n",
              "census_msa                     category\n",
              "household_adults                float64\n",
              "household_children              float64\n",
              "employment_industry            category\n",
              "employment_occupation          category\n",
              "h1n1_vaccine                      int64\n",
              "seasonal_vaccine                  int64\n",
              "dtype: object"
            ]
          },
          "metadata": {
            "tags": []
          },
          "execution_count": 9
        }
      ]
    },
    {
      "cell_type": "code",
      "metadata": {
        "colab": {
          "base_uri": "https://localhost:8080/",
          "height": 383
        },
        "id": "gYVpLMm37sEO",
        "outputId": "1e89630c-4ce4-4ef4-ac89-f00b88f60e3a"
      },
      "source": [
        "df_train.head()"
      ],
      "execution_count": 81,
      "outputs": [
        {
          "output_type": "execute_result",
          "data": {
            "text/html": [
              "<div>\n",
              "<style scoped>\n",
              "    .dataframe tbody tr th:only-of-type {\n",
              "        vertical-align: middle;\n",
              "    }\n",
              "\n",
              "    .dataframe tbody tr th {\n",
              "        vertical-align: top;\n",
              "    }\n",
              "\n",
              "    .dataframe thead th {\n",
              "        text-align: right;\n",
              "    }\n",
              "</style>\n",
              "<table border=\"1\" class=\"dataframe\">\n",
              "  <thead>\n",
              "    <tr style=\"text-align: right;\">\n",
              "      <th></th>\n",
              "      <th>h1n1_concern</th>\n",
              "      <th>h1n1_knowledge</th>\n",
              "      <th>behavioral_antiviral_meds</th>\n",
              "      <th>behavioral_avoidance</th>\n",
              "      <th>behavioral_face_mask</th>\n",
              "      <th>behavioral_wash_hands</th>\n",
              "      <th>behavioral_large_gatherings</th>\n",
              "      <th>behavioral_outside_home</th>\n",
              "      <th>behavioral_touch_face</th>\n",
              "      <th>doctor_recc_h1n1</th>\n",
              "      <th>doctor_recc_seasonal</th>\n",
              "      <th>chronic_med_condition</th>\n",
              "      <th>child_under_6_months</th>\n",
              "      <th>health_worker</th>\n",
              "      <th>health_insurance</th>\n",
              "      <th>opinion_h1n1_vacc_effective</th>\n",
              "      <th>opinion_h1n1_risk</th>\n",
              "      <th>opinion_h1n1_sick_from_vacc</th>\n",
              "      <th>opinion_seas_vacc_effective</th>\n",
              "      <th>opinion_seas_risk</th>\n",
              "      <th>opinion_seas_sick_from_vacc</th>\n",
              "      <th>age_group</th>\n",
              "      <th>education</th>\n",
              "      <th>race</th>\n",
              "      <th>sex</th>\n",
              "      <th>income_poverty</th>\n",
              "      <th>marital_status</th>\n",
              "      <th>rent_or_own</th>\n",
              "      <th>employment_status</th>\n",
              "      <th>hhs_geo_region</th>\n",
              "      <th>census_msa</th>\n",
              "      <th>household_adults</th>\n",
              "      <th>household_children</th>\n",
              "      <th>employment_industry</th>\n",
              "      <th>employment_occupation</th>\n",
              "      <th>h1n1_vaccine</th>\n",
              "      <th>seasonal_vaccine</th>\n",
              "    </tr>\n",
              "    <tr>\n",
              "      <th>respondent_id</th>\n",
              "      <th></th>\n",
              "      <th></th>\n",
              "      <th></th>\n",
              "      <th></th>\n",
              "      <th></th>\n",
              "      <th></th>\n",
              "      <th></th>\n",
              "      <th></th>\n",
              "      <th></th>\n",
              "      <th></th>\n",
              "      <th></th>\n",
              "      <th></th>\n",
              "      <th></th>\n",
              "      <th></th>\n",
              "      <th></th>\n",
              "      <th></th>\n",
              "      <th></th>\n",
              "      <th></th>\n",
              "      <th></th>\n",
              "      <th></th>\n",
              "      <th></th>\n",
              "      <th></th>\n",
              "      <th></th>\n",
              "      <th></th>\n",
              "      <th></th>\n",
              "      <th></th>\n",
              "      <th></th>\n",
              "      <th></th>\n",
              "      <th></th>\n",
              "      <th></th>\n",
              "      <th></th>\n",
              "      <th></th>\n",
              "      <th></th>\n",
              "      <th></th>\n",
              "      <th></th>\n",
              "      <th></th>\n",
              "      <th></th>\n",
              "    </tr>\n",
              "  </thead>\n",
              "  <tbody>\n",
              "    <tr>\n",
              "      <th>0</th>\n",
              "      <td>1.0</td>\n",
              "      <td>0.0</td>\n",
              "      <td>0.0</td>\n",
              "      <td>0.0</td>\n",
              "      <td>0.0</td>\n",
              "      <td>0.0</td>\n",
              "      <td>0.0</td>\n",
              "      <td>1.0</td>\n",
              "      <td>1.0</td>\n",
              "      <td>0.0</td>\n",
              "      <td>0.0</td>\n",
              "      <td>0.0</td>\n",
              "      <td>0.0</td>\n",
              "      <td>0.0</td>\n",
              "      <td>1.0</td>\n",
              "      <td>3.0</td>\n",
              "      <td>1.0</td>\n",
              "      <td>2.0</td>\n",
              "      <td>2.0</td>\n",
              "      <td>1.0</td>\n",
              "      <td>2.0</td>\n",
              "      <td>3</td>\n",
              "      <td>0.0</td>\n",
              "      <td>White</td>\n",
              "      <td>Female</td>\n",
              "      <td>0.0</td>\n",
              "      <td>Not Married</td>\n",
              "      <td>Own</td>\n",
              "      <td>Not in Labor Force</td>\n",
              "      <td>oxchjgsf</td>\n",
              "      <td>Non-MSA</td>\n",
              "      <td>0.0</td>\n",
              "      <td>0.0</td>\n",
              "      <td>NaN</td>\n",
              "      <td>NaN</td>\n",
              "      <td>0</td>\n",
              "      <td>0</td>\n",
              "    </tr>\n",
              "    <tr>\n",
              "      <th>1</th>\n",
              "      <td>3.0</td>\n",
              "      <td>2.0</td>\n",
              "      <td>0.0</td>\n",
              "      <td>1.0</td>\n",
              "      <td>0.0</td>\n",
              "      <td>1.0</td>\n",
              "      <td>0.0</td>\n",
              "      <td>1.0</td>\n",
              "      <td>1.0</td>\n",
              "      <td>0.0</td>\n",
              "      <td>0.0</td>\n",
              "      <td>0.0</td>\n",
              "      <td>0.0</td>\n",
              "      <td>0.0</td>\n",
              "      <td>1.0</td>\n",
              "      <td>5.0</td>\n",
              "      <td>4.0</td>\n",
              "      <td>4.0</td>\n",
              "      <td>4.0</td>\n",
              "      <td>2.0</td>\n",
              "      <td>4.0</td>\n",
              "      <td>1</td>\n",
              "      <td>1.0</td>\n",
              "      <td>White</td>\n",
              "      <td>Male</td>\n",
              "      <td>0.0</td>\n",
              "      <td>Not Married</td>\n",
              "      <td>Rent</td>\n",
              "      <td>Employed</td>\n",
              "      <td>bhuqouqj</td>\n",
              "      <td>MSA, Not Principle  City</td>\n",
              "      <td>0.0</td>\n",
              "      <td>0.0</td>\n",
              "      <td>pxcmvdjn</td>\n",
              "      <td>xgwztkwe</td>\n",
              "      <td>0</td>\n",
              "      <td>1</td>\n",
              "    </tr>\n",
              "    <tr>\n",
              "      <th>2</th>\n",
              "      <td>1.0</td>\n",
              "      <td>1.0</td>\n",
              "      <td>0.0</td>\n",
              "      <td>1.0</td>\n",
              "      <td>0.0</td>\n",
              "      <td>0.0</td>\n",
              "      <td>0.0</td>\n",
              "      <td>0.0</td>\n",
              "      <td>0.0</td>\n",
              "      <td>NaN</td>\n",
              "      <td>NaN</td>\n",
              "      <td>1.0</td>\n",
              "      <td>0.0</td>\n",
              "      <td>0.0</td>\n",
              "      <td>NaN</td>\n",
              "      <td>3.0</td>\n",
              "      <td>1.0</td>\n",
              "      <td>1.0</td>\n",
              "      <td>4.0</td>\n",
              "      <td>1.0</td>\n",
              "      <td>2.0</td>\n",
              "      <td>0</td>\n",
              "      <td>3.0</td>\n",
              "      <td>White</td>\n",
              "      <td>Male</td>\n",
              "      <td>1.0</td>\n",
              "      <td>Not Married</td>\n",
              "      <td>Own</td>\n",
              "      <td>Employed</td>\n",
              "      <td>qufhixun</td>\n",
              "      <td>MSA, Not Principle  City</td>\n",
              "      <td>2.0</td>\n",
              "      <td>0.0</td>\n",
              "      <td>rucpziij</td>\n",
              "      <td>xtkaffoo</td>\n",
              "      <td>0</td>\n",
              "      <td>0</td>\n",
              "    </tr>\n",
              "    <tr>\n",
              "      <th>3</th>\n",
              "      <td>1.0</td>\n",
              "      <td>1.0</td>\n",
              "      <td>0.0</td>\n",
              "      <td>1.0</td>\n",
              "      <td>0.0</td>\n",
              "      <td>1.0</td>\n",
              "      <td>1.0</td>\n",
              "      <td>0.0</td>\n",
              "      <td>0.0</td>\n",
              "      <td>0.0</td>\n",
              "      <td>1.0</td>\n",
              "      <td>1.0</td>\n",
              "      <td>0.0</td>\n",
              "      <td>0.0</td>\n",
              "      <td>NaN</td>\n",
              "      <td>3.0</td>\n",
              "      <td>3.0</td>\n",
              "      <td>5.0</td>\n",
              "      <td>5.0</td>\n",
              "      <td>4.0</td>\n",
              "      <td>1.0</td>\n",
              "      <td>4</td>\n",
              "      <td>1.0</td>\n",
              "      <td>White</td>\n",
              "      <td>Female</td>\n",
              "      <td>0.0</td>\n",
              "      <td>Not Married</td>\n",
              "      <td>Rent</td>\n",
              "      <td>Not in Labor Force</td>\n",
              "      <td>lrircsnp</td>\n",
              "      <td>MSA, Principle City</td>\n",
              "      <td>0.0</td>\n",
              "      <td>0.0</td>\n",
              "      <td>NaN</td>\n",
              "      <td>NaN</td>\n",
              "      <td>0</td>\n",
              "      <td>1</td>\n",
              "    </tr>\n",
              "    <tr>\n",
              "      <th>4</th>\n",
              "      <td>2.0</td>\n",
              "      <td>1.0</td>\n",
              "      <td>0.0</td>\n",
              "      <td>1.0</td>\n",
              "      <td>0.0</td>\n",
              "      <td>1.0</td>\n",
              "      <td>1.0</td>\n",
              "      <td>0.0</td>\n",
              "      <td>1.0</td>\n",
              "      <td>0.0</td>\n",
              "      <td>0.0</td>\n",
              "      <td>0.0</td>\n",
              "      <td>0.0</td>\n",
              "      <td>0.0</td>\n",
              "      <td>NaN</td>\n",
              "      <td>3.0</td>\n",
              "      <td>3.0</td>\n",
              "      <td>2.0</td>\n",
              "      <td>3.0</td>\n",
              "      <td>1.0</td>\n",
              "      <td>4.0</td>\n",
              "      <td>2</td>\n",
              "      <td>2.0</td>\n",
              "      <td>White</td>\n",
              "      <td>Female</td>\n",
              "      <td>1.0</td>\n",
              "      <td>Married</td>\n",
              "      <td>Own</td>\n",
              "      <td>Employed</td>\n",
              "      <td>qufhixun</td>\n",
              "      <td>MSA, Not Principle  City</td>\n",
              "      <td>1.0</td>\n",
              "      <td>0.0</td>\n",
              "      <td>wxleyezf</td>\n",
              "      <td>emcorrxb</td>\n",
              "      <td>0</td>\n",
              "      <td>0</td>\n",
              "    </tr>\n",
              "  </tbody>\n",
              "</table>\n",
              "</div>"
            ],
            "text/plain": [
              "               h1n1_concern  h1n1_knowledge  ...  h1n1_vaccine  seasonal_vaccine\n",
              "respondent_id                                ...                                \n",
              "0                       1.0             0.0  ...             0                 0\n",
              "1                       3.0             2.0  ...             0                 1\n",
              "2                       1.0             1.0  ...             0                 0\n",
              "3                       1.0             1.0  ...             0                 1\n",
              "4                       2.0             1.0  ...             0                 0\n",
              "\n",
              "[5 rows x 37 columns]"
            ]
          },
          "metadata": {
            "tags": []
          },
          "execution_count": 81
        }
      ]
    },
    {
      "cell_type": "markdown",
      "metadata": {
        "id": "0plz4JSHnWvk"
      },
      "source": [
        "We get rid of 'hhs_geo_region', 'census_msa' as these contains data which arent useful to encode.\n",
        "\n",
        "We also drop 'employment_industry', 'employment_occupation' because they have majority of missing data"
      ]
    },
    {
      "cell_type": "code",
      "metadata": {
        "id": "ZrgcJZuIIb5G"
      },
      "source": [
        "df_train = df_train.drop(columns =['hhs_geo_region','census_msa','employment_industry','employment_occupation'])\n"
      ],
      "execution_count": 10,
      "outputs": []
    },
    {
      "cell_type": "code",
      "metadata": {
        "colab": {
          "base_uri": "https://localhost:8080/"
        },
        "id": "iilg5ca49DZO",
        "outputId": "83f5d25e-0b32-487c-a0f2-a2ee560f2de6"
      },
      "source": [
        "df_train.isnull().sum().sort_values()"
      ],
      "execution_count": 11,
      "outputs": [
        {
          "output_type": "execute_result",
          "data": {
            "text/plain": [
              "seasonal_vaccine                   0\n",
              "sex                                0\n",
              "race                               0\n",
              "age_group                          0\n",
              "h1n1_vaccine                       0\n",
              "behavioral_face_mask              19\n",
              "behavioral_wash_hands             42\n",
              "behavioral_antiviral_meds         71\n",
              "behavioral_outside_home           82\n",
              "behavioral_large_gatherings       87\n",
              "h1n1_concern                      92\n",
              "h1n1_knowledge                   116\n",
              "behavioral_touch_face            128\n",
              "behavioral_avoidance             208\n",
              "household_children               249\n",
              "household_adults                 249\n",
              "opinion_h1n1_risk                388\n",
              "opinion_h1n1_vacc_effective      391\n",
              "opinion_h1n1_sick_from_vacc      395\n",
              "opinion_seas_vacc_effective      462\n",
              "opinion_seas_risk                514\n",
              "opinion_seas_sick_from_vacc      537\n",
              "health_worker                    804\n",
              "child_under_6_months             820\n",
              "chronic_med_condition            971\n",
              "education                       1407\n",
              "marital_status                  1408\n",
              "employment_status               1463\n",
              "rent_or_own                     2042\n",
              "doctor_recc_seasonal            2160\n",
              "doctor_recc_h1n1                2160\n",
              "income_poverty                  4423\n",
              "health_insurance               12274\n",
              "dtype: int64"
            ]
          },
          "metadata": {
            "tags": []
          },
          "execution_count": 11
        }
      ]
    },
    {
      "cell_type": "code",
      "metadata": {
        "id": "mFGrV6qCDssT"
      },
      "source": [
        "from sklearn.impute import SimpleImputer\n",
        "from sklearn.multioutput import MultiOutputClassifier\n",
        "from sklearn.linear_model import LogisticRegression\n",
        "from sklearn.svm import SVC\n",
        "from sklearn.linear_model import RidgeClassifierCV\n",
        "from sklearn.ensemble import RandomForestClassifier\n",
        "\n",
        "from sklearn.pipeline import Pipeline\n",
        "from sklearn.model_selection import train_test_split\n",
        "from sklearn.preprocessing import StandardScaler\n",
        "import numpy as np"
      ],
      "execution_count": 12,
      "outputs": []
    },
    {
      "cell_type": "code",
      "metadata": {
        "id": "hv8nOtwbxJWW"
      },
      "source": [
        " from sklearn.experimental import enable_iterative_imputer \n",
        "\n",
        " from sklearn.impute import IterativeImputer\n",
        " from sklearn.impute import KNNImputer\n",
        " from sklearn.preprocessing import OneHotEncoder"
      ],
      "execution_count": 13,
      "outputs": []
    },
    {
      "cell_type": "code",
      "metadata": {
        "id": "ACqbphOWGYdR"
      },
      "source": [
        "from sklearn.model_selection import GridSearchCV"
      ],
      "execution_count": 17,
      "outputs": []
    },
    {
      "cell_type": "markdown",
      "metadata": {
        "id": "jbMDsR9Hn3rm"
      },
      "source": [
        "Now we make our pipeline, first imputing the missing, then one hot encoding the categorical variables, finally using Logestic Regression as our Classifier"
      ]
    },
    {
      "cell_type": "code",
      "metadata": {
        "id": "tZwjPpADYJLo"
      },
      "source": [
        "steps = [\n",
        "         ('Simple_imputer', SimpleImputer(strategy='most_frequent')),\n",
        "         ('encoder', OneHotEncoder(handle_unknown='ignore')),\n",
        "        ('logreg', MultiOutputClassifier(estimator=LogisticRegression()))]\n",
        "\n",
        "# Create the pipeline: pipeline\n",
        "pipeline = Pipeline(steps)\n"
      ],
      "execution_count": 14,
      "outputs": []
    },
    {
      "cell_type": "code",
      "metadata": {
        "id": "hI_XxViGHmTK"
      },
      "source": [
        "X =df_train.drop(columns=['h1n1_vaccine','seasonal_vaccine'])\n",
        "y =df_train[['h1n1_vaccine','seasonal_vaccine']]"
      ],
      "execution_count": 15,
      "outputs": []
    },
    {
      "cell_type": "markdown",
      "metadata": {
        "id": "p9FURGiloSVS"
      },
      "source": [
        "We split them into training and testing data, ensuring on using the stratify = True parameter, which will split the classes evenly"
      ]
    },
    {
      "cell_type": "code",
      "metadata": {
        "id": "TBdOMTu5E52o"
      },
      "source": [
        "# Create training and test sets\n",
        "X_train, X_test, y_train, y_test = train_test_split(X,y,stratify=y,shuffle=True, test_size = 0.3, random_state =42)"
      ],
      "execution_count": 16,
      "outputs": []
    },
    {
      "cell_type": "code",
      "metadata": {
        "id": "ekwAdQGUGdjd"
      },
      "source": [
        "parameters ={'logreg__estimator__C':np.linspace(1.5,2,10) }"
      ],
      "execution_count": 18,
      "outputs": []
    },
    {
      "cell_type": "markdown",
      "metadata": {
        "id": "V9-WgFAJoliA"
      },
      "source": [
        "We use gridsearch CV for hyperparamter Tuning, picking the best C value in the defined range"
      ]
    },
    {
      "cell_type": "code",
      "metadata": {
        "id": "wEQ2elshGTBe"
      },
      "source": [
        "cv = GridSearchCV(pipeline,param_grid =parameters)"
      ],
      "execution_count": 19,
      "outputs": []
    },
    {
      "cell_type": "code",
      "metadata": {
        "id": "fJtfm92EIOoy"
      },
      "source": [
        "cv.fit(X_train,y_train)"
      ],
      "execution_count": null,
      "outputs": []
    },
    {
      "cell_type": "markdown",
      "metadata": {
        "id": "1I6-nZYPWXKO"
      },
      "source": [
        "We want the probabilities of our prediction, not the binary 0,1 prediction, hence we use the predict_proba function"
      ]
    },
    {
      "cell_type": "code",
      "metadata": {
        "id": "Qi-5FuV0LXqG"
      },
      "source": [
        "preds = cv.predict_proba(X_test)"
      ],
      "execution_count": 22,
      "outputs": []
    },
    {
      "cell_type": "code",
      "metadata": {
        "colab": {
          "base_uri": "https://localhost:8080/"
        },
        "id": "QZKORUToLjaa",
        "outputId": "4327e7bb-a7ee-42e9-c8ab-5ea473df43ba"
      },
      "source": [
        "print(\"test_probas[0].shape\", preds[0].shape)\n",
        "print(\"test_probas[1].shape\", preds[1].shape)"
      ],
      "execution_count": 23,
      "outputs": [
        {
          "output_type": "stream",
          "text": [
            "test_probas[0].shape (8013, 2)\n",
            "test_probas[1].shape (8013, 2)\n"
          ],
          "name": "stdout"
        }
      ]
    },
    {
      "cell_type": "code",
      "metadata": {
        "id": "qSes0PcNLufc"
      },
      "source": [
        "y_preds_df = pd.DataFrame(\n",
        "    {\n",
        "        \"h1n1_vaccine\": preds[0][:, 1],\n",
        "        \"seasonal_vaccine\": preds[1][:, 1],\n",
        "    },\n",
        "    index = y_test.index)"
      ],
      "execution_count": 24,
      "outputs": []
    },
    {
      "cell_type": "code",
      "metadata": {
        "colab": {
          "base_uri": "https://localhost:8080/",
          "height": 137
        },
        "id": "ck8bsMKQMOEv",
        "outputId": "b2297c4c-9cd7-43d3-8274-a37540424a8c"
      },
      "source": [
        "y_preds_df.head(2)"
      ],
      "execution_count": 25,
      "outputs": [
        {
          "output_type": "execute_result",
          "data": {
            "text/html": [
              "<div>\n",
              "<style scoped>\n",
              "    .dataframe tbody tr th:only-of-type {\n",
              "        vertical-align: middle;\n",
              "    }\n",
              "\n",
              "    .dataframe tbody tr th {\n",
              "        vertical-align: top;\n",
              "    }\n",
              "\n",
              "    .dataframe thead th {\n",
              "        text-align: right;\n",
              "    }\n",
              "</style>\n",
              "<table border=\"1\" class=\"dataframe\">\n",
              "  <thead>\n",
              "    <tr style=\"text-align: right;\">\n",
              "      <th></th>\n",
              "      <th>h1n1_vaccine</th>\n",
              "      <th>seasonal_vaccine</th>\n",
              "    </tr>\n",
              "    <tr>\n",
              "      <th>respondent_id</th>\n",
              "      <th></th>\n",
              "      <th></th>\n",
              "    </tr>\n",
              "  </thead>\n",
              "  <tbody>\n",
              "    <tr>\n",
              "      <th>7572</th>\n",
              "      <td>0.031811</td>\n",
              "      <td>0.043738</td>\n",
              "    </tr>\n",
              "    <tr>\n",
              "      <th>3586</th>\n",
              "      <td>0.123806</td>\n",
              "      <td>0.437308</td>\n",
              "    </tr>\n",
              "  </tbody>\n",
              "</table>\n",
              "</div>"
            ],
            "text/plain": [
              "               h1n1_vaccine  seasonal_vaccine\n",
              "respondent_id                                \n",
              "7572               0.031811          0.043738\n",
              "3586               0.123806          0.437308"
            ]
          },
          "metadata": {
            "tags": []
          },
          "execution_count": 25
        }
      ]
    },
    {
      "cell_type": "markdown",
      "metadata": {
        "id": "LpMtt37BW1FE"
      },
      "source": [
        "## This competition submission uses ROC_AUC score as metric."
      ]
    },
    {
      "cell_type": "code",
      "metadata": {
        "id": "wFacbhm6MRpw"
      },
      "source": [
        "from sklearn.metrics import roc_auc_score\n",
        "from sklearn.metrics import roc_curve"
      ],
      "execution_count": 29,
      "outputs": []
    },
    {
      "cell_type": "code",
      "metadata": {
        "id": "4wdVAkSlXBL2"
      },
      "source": [
        "def plot_roc(y_true, y_score, label_name, ax):\n",
        "    fpr, tpr, thresholds = roc_curve(y_true, y_score)\n",
        "    ax.plot(fpr, tpr)\n",
        "    ax.plot([0, 1], [0, 1], color='grey', linestyle='--')\n",
        "    ax.set_ylabel('TPR')\n",
        "    ax.set_xlabel('FPR')\n",
        "    ax.set_title(\n",
        "        f\"{label_name}: AUC = {roc_auc_score(y_true, y_score):.4f}\"\n",
        "    )"
      ],
      "execution_count": 30,
      "outputs": []
    },
    {
      "cell_type": "code",
      "metadata": {
        "colab": {
          "base_uri": "https://localhost:8080/",
          "height": 369
        },
        "id": "Ch2lYaKDXGCM",
        "outputId": "ab88225d-6b05-4ef2-b50d-59a3e56fa575"
      },
      "source": [
        "fig, ax = plt.subplots(1, 2, figsize=(10, 5))\n",
        "\n",
        "plot_roc(y_test['h1n1_vaccine'],y_preds_df['h1n1_vaccine'],'h1n1_vaccine', ax=ax[0])\n",
        "plot_roc(y_test['seasonal_vaccine'],y_preds_df['seasonal_vaccine'],'seasonal_vaccine',ax=ax[1])\n",
        "fig.tight_layout()"
      ],
      "execution_count": 35,
      "outputs": [
        {
          "output_type": "display_data",
          "data": {
            "image/png": "[encoded data removed]",
            "text/plain": [
              "<Figure size 720x360 with 2 Axes>"
            ]
          },
          "metadata": {
            "tags": [],
            "needs_background": "light"
          }
        }
      ]
    },
    {
      "cell_type": "markdown",
      "metadata": {
        "id": "grrqY90HY_Nf"
      },
      "source": [
        "We can see our model performed better predicting seasonal vaccine, \n",
        "now lets take the average using scikit learn roc_auc_score, which supports multilabel predictions"
      ]
    },
    {
      "cell_type": "code",
      "metadata": {
        "colab": {
          "base_uri": "https://localhost:8080/"
        },
        "id": "mBA-RdqWMcmQ",
        "outputId": "a86d8274-f8eb-4ab9-fb09-cee5cf99614c"
      },
      "source": [
        "roc_auc_score(y_test, y_preds_df)#Logistic Regression"
      ],
      "execution_count": 36,
      "outputs": [
        {
          "output_type": "execute_result",
          "data": {
            "text/plain": [
              "0.8450608449423009"
            ]
          },
          "metadata": {
            "tags": []
          },
          "execution_count": 36
        }
      ]
    },
    {
      "cell_type": "markdown",
      "metadata": {
        "id": "BuZ2blQOerof"
      },
      "source": [
        "I have tried using other models, such as SVM, Decision Trees, however they didnt perform better than Logistic Regression"
      ]
    },
    {
      "cell_type": "markdown",
      "metadata": {
        "id": "lFWCB5h-QsVj"
      },
      "source": [
        "### TEST/HOLDOUT SET"
      ]
    },
    {
      "cell_type": "code",
      "metadata": {
        "id": "CP1W5pVMQt3h"
      },
      "source": [
        "test_features_df = pd.read_csv('test_set_features.csv',index_col='respondent_id')\n",
        "cat(test_features_df) #applying same preprocessing step."
      ],
      "execution_count": 221,
      "outputs": []
    },
    {
      "cell_type": "code",
      "metadata": {
        "id": "B8AZO6-mRNHU"
      },
      "source": [
        "test_features_df = test_features_df.drop(columns =['hhs_geo_region','census_msa','employment_industry','employment_occupation'])\n"
      ],
      "execution_count": 223,
      "outputs": []
    },
    {
      "cell_type": "code",
      "metadata": {
        "colab": {
          "base_uri": "https://localhost:8080/",
          "height": 332
        },
        "id": "MY_St4dMRQnO",
        "outputId": "aba71f34-402d-458a-a4c5-827900c0b178"
      },
      "source": [
        "test_features_df.head()"
      ],
      "execution_count": 224,
      "outputs": [
        {
          "output_type": "execute_result",
          "data": {
            "text/html": [
              "<div>\n",
              "<style scoped>\n",
              "    .dataframe tbody tr th:only-of-type {\n",
              "        vertical-align: middle;\n",
              "    }\n",
              "\n",
              "    .dataframe tbody tr th {\n",
              "        vertical-align: top;\n",
              "    }\n",
              "\n",
              "    .dataframe thead th {\n",
              "        text-align: right;\n",
              "    }\n",
              "</style>\n",
              "<table border=\"1\" class=\"dataframe\">\n",
              "  <thead>\n",
              "    <tr style=\"text-align: right;\">\n",
              "      <th></th>\n",
              "      <th>h1n1_concern</th>\n",
              "      <th>h1n1_knowledge</th>\n",
              "      <th>behavioral_antiviral_meds</th>\n",
              "      <th>behavioral_avoidance</th>\n",
              "      <th>behavioral_face_mask</th>\n",
              "      <th>behavioral_wash_hands</th>\n",
              "      <th>behavioral_large_gatherings</th>\n",
              "      <th>behavioral_outside_home</th>\n",
              "      <th>behavioral_touch_face</th>\n",
              "      <th>doctor_recc_h1n1</th>\n",
              "      <th>doctor_recc_seasonal</th>\n",
              "      <th>chronic_med_condition</th>\n",
              "      <th>child_under_6_months</th>\n",
              "      <th>health_worker</th>\n",
              "      <th>health_insurance</th>\n",
              "      <th>opinion_h1n1_vacc_effective</th>\n",
              "      <th>opinion_h1n1_risk</th>\n",
              "      <th>opinion_h1n1_sick_from_vacc</th>\n",
              "      <th>opinion_seas_vacc_effective</th>\n",
              "      <th>opinion_seas_risk</th>\n",
              "      <th>opinion_seas_sick_from_vacc</th>\n",
              "      <th>age_group</th>\n",
              "      <th>education</th>\n",
              "      <th>race</th>\n",
              "      <th>sex</th>\n",
              "      <th>income_poverty</th>\n",
              "      <th>marital_status</th>\n",
              "      <th>rent_or_own</th>\n",
              "      <th>employment_status</th>\n",
              "      <th>household_adults</th>\n",
              "      <th>household_children</th>\n",
              "    </tr>\n",
              "    <tr>\n",
              "      <th>respondent_id</th>\n",
              "      <th></th>\n",
              "      <th></th>\n",
              "      <th></th>\n",
              "      <th></th>\n",
              "      <th></th>\n",
              "      <th></th>\n",
              "      <th></th>\n",
              "      <th></th>\n",
              "      <th></th>\n",
              "      <th></th>\n",
              "      <th></th>\n",
              "      <th></th>\n",
              "      <th></th>\n",
              "      <th></th>\n",
              "      <th></th>\n",
              "      <th></th>\n",
              "      <th></th>\n",
              "      <th></th>\n",
              "      <th></th>\n",
              "      <th></th>\n",
              "      <th></th>\n",
              "      <th></th>\n",
              "      <th></th>\n",
              "      <th></th>\n",
              "      <th></th>\n",
              "      <th></th>\n",
              "      <th></th>\n",
              "      <th></th>\n",
              "      <th></th>\n",
              "      <th></th>\n",
              "      <th></th>\n",
              "    </tr>\n",
              "  </thead>\n",
              "  <tbody>\n",
              "    <tr>\n",
              "      <th>26707</th>\n",
              "      <td>2.0</td>\n",
              "      <td>2.0</td>\n",
              "      <td>0.0</td>\n",
              "      <td>1.0</td>\n",
              "      <td>0.0</td>\n",
              "      <td>1.0</td>\n",
              "      <td>1.0</td>\n",
              "      <td>0.0</td>\n",
              "      <td>1.0</td>\n",
              "      <td>0.0</td>\n",
              "      <td>0.0</td>\n",
              "      <td>0.0</td>\n",
              "      <td>0.0</td>\n",
              "      <td>0.0</td>\n",
              "      <td>1.0</td>\n",
              "      <td>5.0</td>\n",
              "      <td>1.0</td>\n",
              "      <td>1.0</td>\n",
              "      <td>5.0</td>\n",
              "      <td>1.0</td>\n",
              "      <td>1.0</td>\n",
              "      <td>35 - 44 Years</td>\n",
              "      <td>College Graduate</td>\n",
              "      <td>Hispanic</td>\n",
              "      <td>Female</td>\n",
              "      <td>&gt; $75,000</td>\n",
              "      <td>Not Married</td>\n",
              "      <td>Rent</td>\n",
              "      <td>Employed</td>\n",
              "      <td>1.0</td>\n",
              "      <td>0.0</td>\n",
              "    </tr>\n",
              "    <tr>\n",
              "      <th>26708</th>\n",
              "      <td>1.0</td>\n",
              "      <td>1.0</td>\n",
              "      <td>0.0</td>\n",
              "      <td>0.0</td>\n",
              "      <td>0.0</td>\n",
              "      <td>0.0</td>\n",
              "      <td>0.0</td>\n",
              "      <td>0.0</td>\n",
              "      <td>0.0</td>\n",
              "      <td>0.0</td>\n",
              "      <td>0.0</td>\n",
              "      <td>0.0</td>\n",
              "      <td>0.0</td>\n",
              "      <td>0.0</td>\n",
              "      <td>0.0</td>\n",
              "      <td>4.0</td>\n",
              "      <td>1.0</td>\n",
              "      <td>1.0</td>\n",
              "      <td>4.0</td>\n",
              "      <td>1.0</td>\n",
              "      <td>1.0</td>\n",
              "      <td>18 - 34 Years</td>\n",
              "      <td>12 Years</td>\n",
              "      <td>White</td>\n",
              "      <td>Male</td>\n",
              "      <td>Below Poverty</td>\n",
              "      <td>Not Married</td>\n",
              "      <td>Rent</td>\n",
              "      <td>Employed</td>\n",
              "      <td>3.0</td>\n",
              "      <td>0.0</td>\n",
              "    </tr>\n",
              "    <tr>\n",
              "      <th>26709</th>\n",
              "      <td>2.0</td>\n",
              "      <td>2.0</td>\n",
              "      <td>0.0</td>\n",
              "      <td>0.0</td>\n",
              "      <td>1.0</td>\n",
              "      <td>1.0</td>\n",
              "      <td>1.0</td>\n",
              "      <td>1.0</td>\n",
              "      <td>1.0</td>\n",
              "      <td>0.0</td>\n",
              "      <td>0.0</td>\n",
              "      <td>0.0</td>\n",
              "      <td>0.0</td>\n",
              "      <td>0.0</td>\n",
              "      <td>NaN</td>\n",
              "      <td>5.0</td>\n",
              "      <td>4.0</td>\n",
              "      <td>2.0</td>\n",
              "      <td>5.0</td>\n",
              "      <td>4.0</td>\n",
              "      <td>4.0</td>\n",
              "      <td>55 - 64 Years</td>\n",
              "      <td>College Graduate</td>\n",
              "      <td>White</td>\n",
              "      <td>Male</td>\n",
              "      <td>&gt; $75,000</td>\n",
              "      <td>Married</td>\n",
              "      <td>Own</td>\n",
              "      <td>Employed</td>\n",
              "      <td>1.0</td>\n",
              "      <td>0.0</td>\n",
              "    </tr>\n",
              "    <tr>\n",
              "      <th>26710</th>\n",
              "      <td>1.0</td>\n",
              "      <td>1.0</td>\n",
              "      <td>0.0</td>\n",
              "      <td>0.0</td>\n",
              "      <td>0.0</td>\n",
              "      <td>0.0</td>\n",
              "      <td>0.0</td>\n",
              "      <td>0.0</td>\n",
              "      <td>0.0</td>\n",
              "      <td>1.0</td>\n",
              "      <td>1.0</td>\n",
              "      <td>1.0</td>\n",
              "      <td>0.0</td>\n",
              "      <td>0.0</td>\n",
              "      <td>1.0</td>\n",
              "      <td>4.0</td>\n",
              "      <td>2.0</td>\n",
              "      <td>2.0</td>\n",
              "      <td>4.0</td>\n",
              "      <td>4.0</td>\n",
              "      <td>2.0</td>\n",
              "      <td>65+ Years</td>\n",
              "      <td>12 Years</td>\n",
              "      <td>White</td>\n",
              "      <td>Female</td>\n",
              "      <td>&lt;= $75,000, Above Poverty</td>\n",
              "      <td>Married</td>\n",
              "      <td>Own</td>\n",
              "      <td>Not in Labor Force</td>\n",
              "      <td>1.0</td>\n",
              "      <td>0.0</td>\n",
              "    </tr>\n",
              "    <tr>\n",
              "      <th>26711</th>\n",
              "      <td>3.0</td>\n",
              "      <td>1.0</td>\n",
              "      <td>1.0</td>\n",
              "      <td>1.0</td>\n",
              "      <td>0.0</td>\n",
              "      <td>1.0</td>\n",
              "      <td>1.0</td>\n",
              "      <td>1.0</td>\n",
              "      <td>1.0</td>\n",
              "      <td>0.0</td>\n",
              "      <td>0.0</td>\n",
              "      <td>0.0</td>\n",
              "      <td>0.0</td>\n",
              "      <td>1.0</td>\n",
              "      <td>1.0</td>\n",
              "      <td>5.0</td>\n",
              "      <td>2.0</td>\n",
              "      <td>4.0</td>\n",
              "      <td>4.0</td>\n",
              "      <td>4.0</td>\n",
              "      <td>2.0</td>\n",
              "      <td>35 - 44 Years</td>\n",
              "      <td>12 Years</td>\n",
              "      <td>Black</td>\n",
              "      <td>Female</td>\n",
              "      <td>&lt;= $75,000, Above Poverty</td>\n",
              "      <td>Not Married</td>\n",
              "      <td>Own</td>\n",
              "      <td>Employed</td>\n",
              "      <td>0.0</td>\n",
              "      <td>1.0</td>\n",
              "    </tr>\n",
              "  </tbody>\n",
              "</table>\n",
              "</div>"
            ],
            "text/plain": [
              "               h1n1_concern  ...  household_children\n",
              "respondent_id                ...                    \n",
              "26707                   2.0  ...                 0.0\n",
              "26708                   1.0  ...                 0.0\n",
              "26709                   2.0  ...                 0.0\n",
              "26710                   1.0  ...                 0.0\n",
              "26711                   3.0  ...                 1.0\n",
              "\n",
              "[5 rows x 31 columns]"
            ]
          },
          "metadata": {
            "tags": []
          },
          "execution_count": 224
        }
      ]
    },
    {
      "cell_type": "markdown",
      "metadata": {
        "id": "lzd6IGenpRXN"
      },
      "source": [
        "Retraining the model on the overall dataset, before testing on the holdout set"
      ]
    },
    {
      "cell_type": "code",
      "metadata": {
        "id": "UTpDg-S-RVSs"
      },
      "source": [
        "cv.fit(X,y)"
      ],
      "execution_count": null,
      "outputs": []
    },
    {
      "cell_type": "markdown",
      "metadata": {
        "id": "wnWAhuwfZSo_"
      },
      "source": [
        "Predicting on the Holdout test set!"
      ]
    },
    {
      "cell_type": "code",
      "metadata": {
        "id": "LvV21ehMRka5"
      },
      "source": [
        "test_probas = cv.predict_proba(test_features_df)"
      ],
      "execution_count": 226,
      "outputs": []
    },
    {
      "cell_type": "code",
      "metadata": {
        "id": "yN9qBu__SMEi"
      },
      "source": [
        "submission_df  = pd.read_csv('submission_format.csv',index_col = 'respondent_id')"
      ],
      "execution_count": 227,
      "outputs": []
    },
    {
      "cell_type": "code",
      "metadata": {
        "id": "eFN_C6kZSj-L"
      },
      "source": [
        "submission_df[\"h1n1_vaccine\"] = test_probas[0][:, 1]\n",
        "submission_df[\"seasonal_vaccine\"] = test_probas[1][:, 1]"
      ],
      "execution_count": 228,
      "outputs": []
    },
    {
      "cell_type": "code",
      "metadata": {
        "id": "FWyFkF7lSv6U"
      },
      "source": [
        "submission_df.to_csv('my_submission2.csv', index=True)"
      ],
      "execution_count": 229,
      "outputs": []
    },
    {
      "cell_type": "code",
      "metadata": {
        "id": "7_t56bxiTWyH"
      },
      "source": [
        "\n",
        "from google.colab import files"
      ],
      "execution_count": 230,
      "outputs": []
    },
    {
      "cell_type": "code",
      "metadata": {
        "colab": {
          "base_uri": "https://localhost:8080/",
          "height": 17
        },
        "id": "u6o4NgtXTnbA",
        "outputId": "897662ee-1b64-431c-a592-4cdb3d7b14c7"
      },
      "source": [
        "files.download('my_submission2.csv')"
      ],
      "execution_count": 232,
      "outputs": [
        {
          "output_type": "display_data",
          "data": {
            "application/javascript": [
              "\n",
              "    async function download(id, filename, size) {\n",
              "      if (!google.colab.kernel.accessAllowed) {\n",
              "        return;\n",
              "      }\n",
              "      const div = document.createElement('div');\n",
              "      const label = document.createElement('label');\n",
              "      label.textContent = `Downloading \"${filename}\": `;\n",
              "      div.appendChild(label);\n",
              "      const progress = document.createElement('progress');\n",
              "      progress.max = size;\n",
              "      div.appendChild(progress);\n",
              "      document.body.appendChild(div);\n",
              "\n",
              "      const buffers = [];\n",
              "      let downloaded = 0;\n",
              "\n",
              "      const channel = await google.colab.kernel.comms.open(id);\n",
              "      // Send a message to notify the kernel that we're ready.\n",
              "      channel.send({})\n",
              "\n",
              "      for await (const message of channel.messages) {\n",
              "        // Send a message to notify the kernel that we're ready.\n",
              "        channel.send({})\n",
              "        if (message.buffers) {\n",
              "          for (const buffer of message.buffers) {\n",
              "            buffers.push(buffer);\n",
              "            downloaded += buffer.byteLength;\n",
              "            progress.value = downloaded;\n",
              "          }\n",
              "        }\n",
              "      }\n",
              "      const blob = new Blob(buffers, {type: 'application/binary'});\n",
              "      const a = document.createElement('a');\n",
              "      a.href = window.URL.createObjectURL(blob);\n",
              "      a.download = filename;\n",
              "      div.appendChild(a);\n",
              "      a.click();\n",
              "      div.remove();\n",
              "    }\n",
              "  "
            ],
            "text/plain": [
              "<IPython.core.display.Javascript object>"
            ]
          },
          "metadata": {
            "tags": []
          }
        },
        {
          "output_type": "display_data",
          "data": {
            "application/javascript": [
              "download(\"download_86e1a529-414d-442b-a979-dc36ab355ad7\", \"my_submission2.csv\", 1204488)"
            ],
            "text/plain": [
              "<IPython.core.display.Javascript object>"
            ]
          },
          "metadata": {
            "tags": []
          }
        }
      ]
    },
    {
      "cell_type": "markdown",
      "metadata": {
        "id": "NZEF_L3stPcw"
      },
      "source": [
        "Submitting on the leaderboard does show a better score with Logistic Regression, in drivendata website"
      ]
    },
    {
      "cell_type": "markdown",
      "metadata": {
        "id": "xwIwA6AttHIL"
      },
      "source": [
        "![image.png](data:image/png;base64,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)"
      ]
    },
    {
      "cell_type": "code",
      "metadata": {
        "id": "Qo7BtA1MtL0l"
      },
      "source": [
        ""
      ],
      "execution_count": null,
      "outputs": []
    }
  ]
}